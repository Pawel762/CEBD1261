{
 "cells": [
  {
   "cell_type": "markdown",
   "metadata": {},
   "source": [
    "# CEBD 1261 Winter 2020\n",
    "## Final Project: Mushroom classification (Poisonous (p) vs. Edible (e))\n",
    "### Data source: https://www.kaggle.com/uciml/mushroom-classification \n",
    "### By: Pawel Kaluski\n"
   ]
  },
  {
   "cell_type": "markdown",
   "metadata": {},
   "source": [
    "Searching for data to use for my project I found this one. It is a classification problem. The challenges with this dataset are that it only has characters and no numbers. It requires alot of encoding. The column names use a '-' to separate words. This creates issues."
   ]
  },
  {
   "cell_type": "code",
   "execution_count": null,
   "metadata": {},
   "outputs": [],
   "source": []
  },
  {
   "cell_type": "code",
   "execution_count": 1,
   "metadata": {},
   "outputs": [],
   "source": [
    "from pyspark.sql import SparkSession\n",
    "import pyspark.sql as sparksql\n",
    "spark = SparkSession.builder.appName('mushrooms').getOrCreate()\n",
    "train = spark.read.csv('mushrooms.csv', inferSchema=True,header=True)\n",
    "import pandas as pd"
   ]
  },
  {
   "cell_type": "markdown",
   "metadata": {},
   "source": [
    "### Used Python to make sure there were no nan in any columns"
   ]
  },
  {
   "cell_type": "code",
   "execution_count": null,
   "metadata": {},
   "outputs": [],
   "source": [
    "# testing data for nan\n",
    "df = pd.read_csv('mushrooms.csv')"
   ]
  },
  {
   "cell_type": "code",
   "execution_count": null,
   "metadata": {},
   "outputs": [],
   "source": [
    "# get info of missing data for each col by creading data frame that contains col's name and its NaN value counts\n",
    "nan_info = pd.DataFrame(df.isnull().sum()).reset_index()\n",
    "nan_info.columns = ['col','nan_cnt']\n",
    "nan_info.sort_values(by = 'nan_cnt',ascending=False,inplace=True)\n",
    "nan_info"
   ]
  },
  {
   "cell_type": "markdown",
   "metadata": {},
   "source": [
    "### We see there are no nan values in any columns"
   ]
  },
  {
   "cell_type": "code",
   "execution_count": null,
   "metadata": {
    "scrolled": true
   },
   "outputs": [],
   "source": [
    "train.printSchema()"
   ]
  },
  {
   "cell_type": "markdown",
   "metadata": {},
   "source": [
    "## Next we will look at te different features to determine what's in them"
   ]
  },
  {
   "cell_type": "code",
   "execution_count": null,
   "metadata": {},
   "outputs": [],
   "source": [
    "# Our Target\n",
    "train.groupBy('class').count().show()"
   ]
  },
  {
   "cell_type": "code",
   "execution_count": null,
   "metadata": {},
   "outputs": [],
   "source": [
    "train.groupBy('cap-shape').count().show()"
   ]
  },
  {
   "cell_type": "code",
   "execution_count": null,
   "metadata": {},
   "outputs": [],
   "source": [
    "train.groupBy('cap-surface').count().show()"
   ]
  },
  {
   "cell_type": "code",
   "execution_count": null,
   "metadata": {},
   "outputs": [],
   "source": [
    "train.groupBy('cap-color').count().show()"
   ]
  },
  {
   "cell_type": "code",
   "execution_count": null,
   "metadata": {},
   "outputs": [],
   "source": [
    "train.groupBy('bruises').count().show()"
   ]
  },
  {
   "cell_type": "code",
   "execution_count": null,
   "metadata": {},
   "outputs": [],
   "source": [
    "train.groupBy('odor').count().show()"
   ]
  },
  {
   "cell_type": "code",
   "execution_count": null,
   "metadata": {},
   "outputs": [],
   "source": [
    "train.groupBy('gill-attachment').count().show()"
   ]
  },
  {
   "cell_type": "code",
   "execution_count": null,
   "metadata": {},
   "outputs": [],
   "source": [
    "train.groupBy('gill-spacing').count().show()"
   ]
  },
  {
   "cell_type": "code",
   "execution_count": null,
   "metadata": {},
   "outputs": [],
   "source": [
    "train.groupBy('gill-size').count().show()"
   ]
  },
  {
   "cell_type": "code",
   "execution_count": null,
   "metadata": {},
   "outputs": [],
   "source": [
    "train.groupBy('gill-color').count().show()"
   ]
  },
  {
   "cell_type": "code",
   "execution_count": null,
   "metadata": {},
   "outputs": [],
   "source": [
    "train.groupBy('stalk-shape').count().show()"
   ]
  },
  {
   "cell_type": "code",
   "execution_count": null,
   "metadata": {},
   "outputs": [],
   "source": [
    "train.groupBy('stalk-root').count().show()"
   ]
  },
  {
   "cell_type": "markdown",
   "metadata": {},
   "source": [
    "#### We can see we have 2480 missing values we can exclude this column in the MVP"
   ]
  },
  {
   "cell_type": "code",
   "execution_count": null,
   "metadata": {},
   "outputs": [],
   "source": [
    "train.groupBy('stalk-surface-above-ring').count().show()"
   ]
  },
  {
   "cell_type": "code",
   "execution_count": null,
   "metadata": {},
   "outputs": [],
   "source": [
    "train.groupBy('stalk-surface-below-ring').count().show()"
   ]
  },
  {
   "cell_type": "code",
   "execution_count": null,
   "metadata": {},
   "outputs": [],
   "source": [
    "train.groupBy('stalk-color-above-ring').count().show()"
   ]
  },
  {
   "cell_type": "code",
   "execution_count": null,
   "metadata": {},
   "outputs": [],
   "source": [
    "train.groupBy('stalk-color-below-ring').count().show()"
   ]
  },
  {
   "cell_type": "code",
   "execution_count": null,
   "metadata": {},
   "outputs": [],
   "source": [
    "train.groupBy('veil-color').count().show()"
   ]
  },
  {
   "cell_type": "code",
   "execution_count": null,
   "metadata": {},
   "outputs": [],
   "source": [
    "train.groupBy('veil-type').count().show()"
   ]
  },
  {
   "cell_type": "markdown",
   "metadata": {},
   "source": [
    "#### Since this feature adds no value it will not be used in our model"
   ]
  },
  {
   "cell_type": "code",
   "execution_count": null,
   "metadata": {},
   "outputs": [],
   "source": [
    "train.groupBy('ring-number').count().show()"
   ]
  },
  {
   "cell_type": "code",
   "execution_count": null,
   "metadata": {},
   "outputs": [],
   "source": [
    "train.groupBy('ring-type').count().show()"
   ]
  },
  {
   "cell_type": "code",
   "execution_count": null,
   "metadata": {},
   "outputs": [],
   "source": [
    "train.groupBy('spore-print-color').count().show()"
   ]
  },
  {
   "cell_type": "code",
   "execution_count": null,
   "metadata": {},
   "outputs": [],
   "source": [
    "train.groupBy('population').count().show()"
   ]
  },
  {
   "cell_type": "code",
   "execution_count": null,
   "metadata": {},
   "outputs": [],
   "source": [
    "train.groupBy('habitat').count().show()"
   ]
  },
  {
   "cell_type": "markdown",
   "metadata": {},
   "source": [
    "### We will remove 'veil-type' and 'stalk-root'"
   ]
  },
  {
   "cell_type": "code",
   "execution_count": 2,
   "metadata": {},
   "outputs": [
    {
     "name": "stdout",
     "output_type": "stream",
     "text": [
      "root\n",
      " |-- class: string (nullable = true)\n",
      " |-- cap-shape: string (nullable = true)\n",
      " |-- cap-surface: string (nullable = true)\n",
      " |-- cap-color: string (nullable = true)\n",
      " |-- bruises: string (nullable = true)\n",
      " |-- odor: string (nullable = true)\n",
      " |-- gill-attachment: string (nullable = true)\n",
      " |-- gill-spacing: string (nullable = true)\n",
      " |-- gill-size: string (nullable = true)\n",
      " |-- gill-color: string (nullable = true)\n",
      " |-- stalk-shape: string (nullable = true)\n",
      " |-- stalk-surface-above-ring: string (nullable = true)\n",
      " |-- stalk-surface-below-ring: string (nullable = true)\n",
      " |-- stalk-color-above-ring: string (nullable = true)\n",
      " |-- stalk-color-below-ring: string (nullable = true)\n",
      " |-- veil-color: string (nullable = true)\n",
      " |-- ring-number: string (nullable = true)\n",
      " |-- ring-type: string (nullable = true)\n",
      " |-- spore-print-color: string (nullable = true)\n",
      " |-- population: string (nullable = true)\n",
      " |-- habitat: string (nullable = true)\n",
      "\n"
     ]
    }
   ],
   "source": [
    "train = train.select('class', 'cap-shape', 'cap-surface', 'cap-color', 'bruises', 'odor', 'gill-attachment', 'gill-spacing', 'gill-size', 'gill-color', 'stalk-shape', 'stalk-surface-above-ring', 'stalk-surface-below-ring', 'stalk-color-above-ring', 'stalk-color-below-ring', 'veil-color', 'ring-number', 'ring-type', 'spore-print-color', 'population', 'habitat')\n",
    "cols = train.columns\n",
    "train.printSchema()"
   ]
  },
  {
   "cell_type": "code",
   "execution_count": null,
   "metadata": {},
   "outputs": [],
   "source": [
    "# we will look at the first 5 rows to see if data is still ok and confirm the columns were removed\n",
    "import pandas as pd\n",
    "pd.DataFrame(train.take(5), columns=train.columns).transpose()"
   ]
  },
  {
   "cell_type": "markdown",
   "metadata": {},
   "source": [
    "### This part is where the encoding takes place. (Converting labels to numbers)"
   ]
  },
  {
   "cell_type": "code",
   "execution_count": null,
   "metadata": {},
   "outputs": [],
   "source": [
    "from pyspark.ml.feature import (VectorAssembler,OneHotEncoder,StringIndexer)"
   ]
  },
  {
   "cell_type": "code",
   "execution_count": null,
   "metadata": {},
   "outputs": [],
   "source": [
    "cap_shape_indexer = StringIndexer(inputCol='cap-shape',outputCol='cap_shapeIndex')\n",
    "cap_shape_encoder = OneHotEncoder(inputCol='cap_shapeIndex',outputCol='cap_shapeVec')"
   ]
  },
  {
   "cell_type": "code",
   "execution_count": null,
   "metadata": {},
   "outputs": [],
   "source": [
    "cap_surface_indexer = StringIndexer(inputCol='cap-surface',outputCol='cap_surfaceIndex')\n",
    "cap_surface_encoder = OneHotEncoder(inputCol='cap_surfaceIndex',outputCol='cap_surfaceVec')"
   ]
  },
  {
   "cell_type": "code",
   "execution_count": null,
   "metadata": {},
   "outputs": [],
   "source": [
    "cap_color_indexer = StringIndexer(inputCol='cap-color',outputCol='cap_colorIndex')\n",
    "cap_color_encoder = OneHotEncoder(inputCol='cap_colorIndex',outputCol='cap_colorVec')"
   ]
  },
  {
   "cell_type": "code",
   "execution_count": null,
   "metadata": {},
   "outputs": [],
   "source": [
    "bruises_indexer = StringIndexer(inputCol='bruises',outputCol='bruisesIndex')\n",
    "bruises_encoder = OneHotEncoder(inputCol='bruisesIndex',outputCol='bruisesVec')"
   ]
  },
  {
   "cell_type": "code",
   "execution_count": null,
   "metadata": {},
   "outputs": [],
   "source": [
    "odor_indexer = StringIndexer(inputCol='odor',outputCol='odorIndex')\n",
    "odor_encoder = OneHotEncoder(inputCol='odorIndex',outputCol='odorVec')"
   ]
  },
  {
   "cell_type": "code",
   "execution_count": null,
   "metadata": {},
   "outputs": [],
   "source": [
    "gill_attachment_indexer = StringIndexer(inputCol='gill-attachment',outputCol='gill_attachmentIndex')\n",
    "gill_attachment_encoder = OneHotEncoder(inputCol='gill_attachmentIndex',outputCol='gill_attachmentVec')"
   ]
  },
  {
   "cell_type": "code",
   "execution_count": null,
   "metadata": {},
   "outputs": [],
   "source": [
    "gill_spacing_indexer = StringIndexer(inputCol='gill-spacing',outputCol='gill_spacingIndex')\n",
    "gill_spacing_encoder = OneHotEncoder(inputCol='gill_spacingIndex',outputCol='gill_spacingVec')"
   ]
  },
  {
   "cell_type": "code",
   "execution_count": null,
   "metadata": {},
   "outputs": [],
   "source": [
    "gill_size_indexer = StringIndexer(inputCol='gill-size',outputCol='gill_sizeIndex')\n",
    "gill_size_encoder = OneHotEncoder(inputCol='gill_sizeIndex',outputCol='gill_sizeVec')"
   ]
  },
  {
   "cell_type": "code",
   "execution_count": null,
   "metadata": {},
   "outputs": [],
   "source": [
    "gill_color_indexer = StringIndexer(inputCol='gill-color',outputCol='gill_colorIndex')\n",
    "gill_color_encoder = OneHotEncoder(inputCol='gill_colorIndex',outputCol='gill_colorVec')"
   ]
  },
  {
   "cell_type": "code",
   "execution_count": null,
   "metadata": {},
   "outputs": [],
   "source": [
    "stalk_shape_indexer = StringIndexer(inputCol='stalk-shape',outputCol='stalk_shapeIndex')\n",
    "stalk_shape_encoder = OneHotEncoder(inputCol='stalk_shapeIndex',outputCol='stalk_shapeVec')"
   ]
  },
  {
   "cell_type": "code",
   "execution_count": null,
   "metadata": {},
   "outputs": [],
   "source": [
    "# Excluded due to 2480 missing values \n",
    "#stalk_root_indexer = StringIndexer(inputCol='stalk-root',outputCol='stalk_rootIndex')\n",
    "#stalk_root_encoder = OneHotEncoder(inputCol='stalk_rootIndex',outputCol='stalk_rootVec')"
   ]
  },
  {
   "cell_type": "code",
   "execution_count": null,
   "metadata": {},
   "outputs": [],
   "source": [
    "stalk_surface_above_ring_indexer = StringIndexer(inputCol='stalk-surface-above-ring',outputCol='stalk_surface_above_ringIndex')\n",
    "stalk_surface_above_ring_encoder = OneHotEncoder(inputCol='stalk_surface_above_ringIndex',outputCol='stalk_surface_above_ringVec')"
   ]
  },
  {
   "cell_type": "code",
   "execution_count": null,
   "metadata": {},
   "outputs": [],
   "source": [
    "stalk_surface_below_ring_indexer = StringIndexer(inputCol='stalk-surface-below-ring',outputCol='stalk_surface_below_ringIndex')\n",
    "stalk_surface_below_ring_encoder = OneHotEncoder(inputCol='stalk_surface_below_ringIndex',outputCol='stalk_surface_below_ringVec')"
   ]
  },
  {
   "cell_type": "code",
   "execution_count": null,
   "metadata": {},
   "outputs": [],
   "source": [
    "stalk_color_above_ring_indexer = StringIndexer(inputCol='stalk-color-above-ring',outputCol='stalk_color_above_ringIndex')\n",
    "stalk_color_above_ring_encoder = OneHotEncoder(inputCol='stalk_color_above_ringIndex',outputCol='stalk_color_above_ringVec')"
   ]
  },
  {
   "cell_type": "code",
   "execution_count": null,
   "metadata": {},
   "outputs": [],
   "source": [
    "stalk_color_below_ring_indexer = StringIndexer(inputCol='stalk-color-below-ring',outputCol='stalk_color_below_ringIndex')\n",
    "stalk_color_below_ring_encoder = OneHotEncoder(inputCol='stalk_color_below_ringIndex',outputCol='stalk_color_below_ringVec')"
   ]
  },
  {
   "cell_type": "code",
   "execution_count": null,
   "metadata": {},
   "outputs": [],
   "source": [
    "# Commented out since we will not be using it\n",
    "#veil_type_indexer = StringIndexer(inputCol='veil-type',outputCol='veil_typeIndex')\n",
    "#veil_type_encoder = OneHotEncoder(inputCol='veil_typeIndex',outputCol='veil_typeVec')"
   ]
  },
  {
   "cell_type": "code",
   "execution_count": null,
   "metadata": {},
   "outputs": [],
   "source": [
    "veil_color_indexer = StringIndexer(inputCol='veil-color',outputCol='veil_colorIndex')\n",
    "veil_color_encoder = OneHotEncoder(inputCol='veil_colorIndex',outputCol='veil_colorVec')"
   ]
  },
  {
   "cell_type": "code",
   "execution_count": null,
   "metadata": {},
   "outputs": [],
   "source": [
    "ring_number_indexer = StringIndexer(inputCol='ring-number',outputCol='ring_numberIndex')\n",
    "ring_number_encoder = OneHotEncoder(inputCol='ring_numberIndex',outputCol='ring_numberVec')"
   ]
  },
  {
   "cell_type": "code",
   "execution_count": null,
   "metadata": {},
   "outputs": [],
   "source": [
    "ring_type_indexer = StringIndexer(inputCol='ring-type',outputCol='ring_typeIndex')\n",
    "ring_type_encoder = OneHotEncoder(inputCol='ring_typeIndex',outputCol='ring_typeVec')"
   ]
  },
  {
   "cell_type": "code",
   "execution_count": null,
   "metadata": {},
   "outputs": [],
   "source": [
    "spore_print_color_indexer = StringIndexer(inputCol='spore-print-color',outputCol='spore_print_colorIndex')\n",
    "spore_print_color_encoder = OneHotEncoder(inputCol='spore_print_colorIndex',outputCol='spore_print_colorVec')"
   ]
  },
  {
   "cell_type": "code",
   "execution_count": null,
   "metadata": {},
   "outputs": [],
   "source": [
    "population_indexer = StringIndexer(inputCol='population',outputCol='populationIndex')\n",
    "population_encoder = OneHotEncoder(inputCol='populationIndex',outputCol='populationVec')"
   ]
  },
  {
   "cell_type": "code",
   "execution_count": null,
   "metadata": {},
   "outputs": [],
   "source": [
    "habitat_indexer = StringIndexer(inputCol='habitat',outputCol='habitatIndex')\n",
    "habitat_encoder = OneHotEncoder(inputCol='habitatIndex',outputCol='habitatVec')"
   ]
  },
  {
   "cell_type": "code",
   "execution_count": null,
   "metadata": {},
   "outputs": [],
   "source": [
    "#veil_type and stalk_root exluded\n",
    "assembler = VectorAssembler(inputCols=['cap_shapeVec', 'cap_surfaceVec', 'cap_colorVec',\n",
    " 'bruisesVec', 'odorVec', 'gill_attachmentVec', 'gill_spacingVec', 'gill_sizeVec',\n",
    " 'gill_colorVec', 'stalk_shapeVec', 'stalk_surface_above_ringVec', 'stalk_surface_below_ringVec',\n",
    " 'stalk_color_above_ringVec', 'stalk_color_below_ringVec', 'veil_colorVec', 'ring_numberVec',\n",
    " 'ring_typeVec', 'spore_print_colorVec', 'populationVec', 'habitatVec'], outputCol= 'features')"
   ]
  },
  {
   "cell_type": "markdown",
   "metadata": {},
   "source": [
    "### this was a different way I tried to make it work without success"
   ]
  },
  {
   "cell_type": "code",
   "execution_count": 3,
   "metadata": {},
   "outputs": [],
   "source": [
    "from pyspark.ml.feature import OneHotEncoderEstimator, StringIndexer, VectorAssembler\n",
    "\n",
    "categoricalColumns = ['cap-shape', 'cap-surface', 'cap-color', 'bruises', 'odor', 'gill-attachment', 'gill-spacing', 'gill-size', 'gill-color', 'stalk-shape', 'stalk-surface-above-ring', 'stalk-surface-below-ring', 'stalk-color-above-ring', 'stalk-color-below-ring', 'veil-color', 'ring-number', 'ring-type', 'spore-print-color', 'population', 'habitat']\n",
    "stages = []\n",
    "for categoricalCol in categoricalColumns:\n",
    "    stringIndexer = StringIndexer(inputCol = categoricalCol, outputCol = categoricalCol + 'Index')\n",
    "    encoder = OneHotEncoderEstimator(inputCols=[stringIndexer.getOutputCol()], outputCols=[categoricalCol + \"classVec\"])\n",
    "    stages += [stringIndexer, encoder]\n",
    "    label_stringIdx = StringIndexer(inputCol = 'class', outputCol = 'label')\n",
    "    assemblerInputs = [c + \"classVec\" for c in categoricalColumns]\n",
    "assembler = VectorAssembler(inputCols=assemblerInputs, outputCol=\"features\")\n",
    "stages += [assembler]"
   ]
  },
  {
   "cell_type": "code",
   "execution_count": 4,
   "metadata": {},
   "outputs": [
    {
     "ename": "AnalysisException",
     "evalue": "\"cannot resolve '`label`' given input columns: [ring-typeclassVec, stalk-color-above-ringclassVec, gill-colorclassVec, ring-typeIndex, cap-shapeIndex, stalk-color-below-ring, veil-colorIndex, stalk-color-below-ringIndex, gill-spacingclassVec, spore-print-colorclassVec, bruises, odorIndex, cap-surfaceIndex, cap-surfaceclassVec, stalk-surface-below-ring, ring-numberIndex, habitat, gill-sizeclassVec, cap-colorclassVec, gill-size, gill-attachmentclassVec, stalk-surface-below-ringclassVec, gill-colorIndex, habitatIndex, features, populationclassVec, gill-color, ring-numberclassVec, stalk-shapeclassVec, cap-surface, cap-colorIndex, stalk-color-above-ringIndex, stalk-surface-above-ringIndex, gill-spacingIndex, gill-spacing, ring-number, veil-color, stalk-surface-above-ringclassVec, population, stalk-color-below-ringclassVec, gill-sizeIndex, gill-attachmentIndex, spore-print-color, class, stalk-surface-above-ring, cap-shape, gill-attachment, stalk-shape, spore-print-colorIndex, cap-shapeclassVec, odorclassVec, cap-color, stalk-shapeIndex, stalk-color-above-ring, bruisesIndex, bruisesclassVec, populationIndex, veil-colorclassVec, odor, stalk-surface-below-ringIndex, ring-type, habitatclassVec];;\\n'Project ['label, features#4334, class#10, cap-shape#11, cap-surface#12, cap-color#13, bruises#14, odor#15, gill-attachment#16, gill-spacing#17, gill-size#18, gill-color#19, stalk-shape#20, stalk-surface-above-ring#22, stalk-surface-below-ring#23, stalk-color-above-ring#24, stalk-color-below-ring#25, veil-color#27, ring-number#28, ring-type#29, spore-print-color#30, population#31, habitat#32]\\n+- Project [class#10, cap-shape#11, cap-surface#12, cap-color#13, bruises#14, odor#15, gill-attachment#16, gill-spacing#17, gill-size#18, gill-color#19, stalk-shape#20, stalk-surface-above-ring#22, stalk-surface-below-ring#23, stalk-color-above-ring#24, stalk-color-below-ring#25, veil-color#27, ring-number#28, ring-type#29, spore-print-color#30, population#31, habitat#32, cap-shapeIndex#2614, cap-shapeclassVec#2638, cap-surfaceIndex#2662, ... 38 more fields]\\n   +- Project [class#10, cap-shape#11, cap-surface#12, cap-color#13, bruises#14, odor#15, gill-attachment#16, gill-spacing#17, gill-size#18, gill-color#19, stalk-shape#20, stalk-surface-above-ring#22, stalk-surface-below-ring#23, stalk-color-above-ring#24, stalk-color-below-ring#25, veil-color#27, ring-number#28, ring-type#29, spore-print-color#30, population#31, habitat#32, cap-shapeIndex#2614, cap-shapeclassVec#2638, cap-surfaceIndex#2662, ... 37 more fields]\\n      +- Project [class#10, cap-shape#11, cap-surface#12, cap-color#13, bruises#14, odor#15, gill-attachment#16, gill-spacing#17, gill-size#18, gill-color#19, stalk-shape#20, stalk-surface-above-ring#22, stalk-surface-below-ring#23, stalk-color-above-ring#24, stalk-color-below-ring#25, veil-color#27, ring-number#28, ring-type#29, spore-print-color#30, population#31, habitat#32, cap-shapeIndex#2614, cap-shapeclassVec#2638, cap-surfaceIndex#2662, ... 36 more fields]\\n         +- Project [class#10, cap-shape#11, cap-surface#12, cap-color#13, bruises#14, odor#15, gill-attachment#16, gill-spacing#17, gill-size#18, gill-color#19, stalk-shape#20, stalk-surface-above-ring#22, stalk-surface-below-ring#23, stalk-color-above-ring#24, stalk-color-below-ring#25, veil-color#27, ring-number#28, ring-type#29, spore-print-color#30, population#31, habitat#32, cap-shapeIndex#2614, cap-shapeclassVec#2638, cap-surfaceIndex#2662, ... 35 more fields]\\n            +- Project [class#10, cap-shape#11, cap-surface#12, cap-color#13, bruises#14, odor#15, gill-attachment#16, gill-spacing#17, gill-size#18, gill-color#19, stalk-shape#20, stalk-surface-above-ring#22, stalk-surface-below-ring#23, stalk-color-above-ring#24, stalk-color-below-ring#25, veil-color#27, ring-number#28, ring-type#29, spore-print-color#30, population#31, habitat#32, cap-shapeIndex#2614, cap-shapeclassVec#2638, cap-surfaceIndex#2662, ... 34 more fields]\\n               +- Project [class#10, cap-shape#11, cap-surface#12, cap-color#13, bruises#14, odor#15, gill-attachment#16, gill-spacing#17, gill-size#18, gill-color#19, stalk-shape#20, stalk-surface-above-ring#22, stalk-surface-below-ring#23, stalk-color-above-ring#24, stalk-color-below-ring#25, veil-color#27, ring-number#28, ring-type#29, spore-print-color#30, population#31, habitat#32, cap-shapeIndex#2614, cap-shapeclassVec#2638, cap-surfaceIndex#2662, ... 33 more fields]\\n                  +- Project [class#10, cap-shape#11, cap-surface#12, cap-color#13, bruises#14, odor#15, gill-attachment#16, gill-spacing#17, gill-size#18, gill-color#19, stalk-shape#20, stalk-surface-above-ring#22, stalk-surface-below-ring#23, stalk-color-above-ring#24, stalk-color-below-ring#25, veil-color#27, ring-number#28, ring-type#29, spore-print-color#30, population#31, habitat#32, cap-shapeIndex#2614, cap-shapeclassVec#2638, cap-surfaceIndex#2662, ... 32 more fields]\\n                     +- Project [class#10, cap-shape#11, cap-surface#12, cap-color#13, bruises#14, odor#15, gill-attachment#16, gill-spacing#17, gill-size#18, gill-color#19, stalk-shape#20, stalk-surface-above-ring#22, stalk-surface-below-ring#23, stalk-color-above-ring#24, stalk-color-below-ring#25, veil-color#27, ring-number#28, ring-type#29, spore-print-color#30, population#31, habitat#32, cap-shapeIndex#2614, cap-shapeclassVec#2638, cap-surfaceIndex#2662, ... 31 more fields]\\n                        +- Project [class#10, cap-shape#11, cap-surface#12, cap-color#13, bruises#14, odor#15, gill-attachment#16, gill-spacing#17, gill-size#18, gill-color#19, stalk-shape#20, stalk-surface-above-ring#22, stalk-surface-below-ring#23, stalk-color-above-ring#24, stalk-color-below-ring#25, veil-color#27, ring-number#28, ring-type#29, spore-print-color#30, population#31, habitat#32, cap-shapeIndex#2614, cap-shapeclassVec#2638, cap-surfaceIndex#2662, ... 30 more fields]\\n                           +- Project [class#10, cap-shape#11, cap-surface#12, cap-color#13, bruises#14, odor#15, gill-attachment#16, gill-spacing#17, gill-size#18, gill-color#19, stalk-shape#20, stalk-surface-above-ring#22, stalk-surface-below-ring#23, stalk-color-above-ring#24, stalk-color-below-ring#25, veil-color#27, ring-number#28, ring-type#29, spore-print-color#30, population#31, habitat#32, cap-shapeIndex#2614, cap-shapeclassVec#2638, cap-surfaceIndex#2662, ... 29 more fields]\\n                              +- Project [class#10, cap-shape#11, cap-surface#12, cap-color#13, bruises#14, odor#15, gill-attachment#16, gill-spacing#17, gill-size#18, gill-color#19, stalk-shape#20, stalk-surface-above-ring#22, stalk-surface-below-ring#23, stalk-color-above-ring#24, stalk-color-below-ring#25, veil-color#27, ring-number#28, ring-type#29, spore-print-color#30, population#31, habitat#32, cap-shapeIndex#2614, cap-shapeclassVec#2638, cap-surfaceIndex#2662, ... 28 more fields]\\n                                 +- Project [class#10, cap-shape#11, cap-surface#12, cap-color#13, bruises#14, odor#15, gill-attachment#16, gill-spacing#17, gill-size#18, gill-color#19, stalk-shape#20, stalk-surface-above-ring#22, stalk-surface-below-ring#23, stalk-color-above-ring#24, stalk-color-below-ring#25, veil-color#27, ring-number#28, ring-type#29, spore-print-color#30, population#31, habitat#32, cap-shapeIndex#2614, cap-shapeclassVec#2638, cap-surfaceIndex#2662, ... 27 more fields]\\n                                    +- Project [class#10, cap-shape#11, cap-surface#12, cap-color#13, bruises#14, odor#15, gill-attachment#16, gill-spacing#17, gill-size#18, gill-color#19, stalk-shape#20, stalk-surface-above-ring#22, stalk-surface-below-ring#23, stalk-color-above-ring#24, stalk-color-below-ring#25, veil-color#27, ring-number#28, ring-type#29, spore-print-color#30, population#31, habitat#32, cap-shapeIndex#2614, cap-shapeclassVec#2638, cap-surfaceIndex#2662, ... 26 more fields]\\n                                       +- Project [class#10, cap-shape#11, cap-surface#12, cap-color#13, bruises#14, odor#15, gill-attachment#16, gill-spacing#17, gill-size#18, gill-color#19, stalk-shape#20, stalk-surface-above-ring#22, stalk-surface-below-ring#23, stalk-color-above-ring#24, stalk-color-below-ring#25, veil-color#27, ring-number#28, ring-type#29, spore-print-color#30, population#31, habitat#32, cap-shapeIndex#2614, cap-shapeclassVec#2638, cap-surfaceIndex#2662, ... 25 more fields]\\n                                          +- Project [class#10, cap-shape#11, cap-surface#12, cap-color#13, bruises#14, odor#15, gill-attachment#16, gill-spacing#17, gill-size#18, gill-color#19, stalk-shape#20, stalk-surface-above-ring#22, stalk-surface-below-ring#23, stalk-color-above-ring#24, stalk-color-below-ring#25, veil-color#27, ring-number#28, ring-type#29, spore-print-color#30, population#31, habitat#32, cap-shapeIndex#2614, cap-shapeclassVec#2638, cap-surfaceIndex#2662, ... 24 more fields]\\n                                             +- Project [class#10, cap-shape#11, cap-surface#12, cap-color#13, bruises#14, odor#15, gill-attachment#16, gill-spacing#17, gill-size#18, gill-color#19, stalk-shape#20, stalk-surface-above-ring#22, stalk-surface-below-ring#23, stalk-color-above-ring#24, stalk-color-below-ring#25, veil-color#27, ring-number#28, ring-type#29, spore-print-color#30, population#31, habitat#32, cap-shapeIndex#2614, cap-shapeclassVec#2638, cap-surfaceIndex#2662, ... 23 more fields]\\n                                                +- Project [class#10, cap-shape#11, cap-surface#12, cap-color#13, bruises#14, odor#15, gill-attachment#16, gill-spacing#17, gill-size#18, gill-color#19, stalk-shape#20, stalk-surface-above-ring#22, stalk-surface-below-ring#23, stalk-color-above-ring#24, stalk-color-below-ring#25, veil-color#27, ring-number#28, ring-type#29, spore-print-color#30, population#31, habitat#32, cap-shapeIndex#2614, cap-shapeclassVec#2638, cap-surfaceIndex#2662, ... 22 more fields]\\n                                                   +- Project [class#10, cap-shape#11, cap-surface#12, cap-color#13, bruises#14, odor#15, gill-attachment#16, gill-spacing#17, gill-size#18, gill-color#19, stalk-shape#20, stalk-surface-above-ring#22, stalk-surface-below-ring#23, stalk-color-above-ring#24, stalk-color-below-ring#25, veil-color#27, ring-number#28, ring-type#29, spore-print-color#30, population#31, habitat#32, cap-shapeIndex#2614, cap-shapeclassVec#2638, cap-surfaceIndex#2662, ... 21 more fields]\\n                                                      +- Project [class#10, cap-shape#11, cap-surface#12, cap-color#13, bruises#14, odor#15, gill-attachment#16, gill-spacing#17, gill-size#18, gill-color#19, stalk-shape#20, stalk-surface-above-ring#22, stalk-surface-below-ring#23, stalk-color-above-ring#24, stalk-color-below-ring#25, veil-color#27, ring-number#28, ring-type#29, spore-print-color#30, population#31, habitat#32, cap-shapeIndex#2614, cap-shapeclassVec#2638, cap-surfaceIndex#2662, ... 20 more fields]\\n                                                         +- Project [class#10, cap-shape#11, cap-surface#12, cap-color#13, bruises#14, odor#15, gill-attachment#16, gill-spacing#17, gill-size#18, gill-color#19, stalk-shape#20, stalk-surface-above-ring#22, stalk-surface-below-ring#23, stalk-color-above-ring#24, stalk-color-below-ring#25, veil-color#27, ring-number#28, ring-type#29, spore-print-color#30, population#31, habitat#32, cap-shapeIndex#2614, cap-shapeclassVec#2638, cap-surfaceIndex#2662, ... 19 more fields]\\n                                                            +- Project [class#10, cap-shape#11, cap-surface#12, cap-color#13, bruises#14, odor#15, gill-attachment#16, gill-spacing#17, gill-size#18, gill-color#19, stalk-shape#20, stalk-surface-above-ring#22, stalk-surface-below-ring#23, stalk-color-above-ring#24, stalk-color-below-ring#25, veil-color#27, ring-number#28, ring-type#29, spore-print-color#30, population#31, habitat#32, cap-shapeIndex#2614, cap-shapeclassVec#2638, cap-surfaceIndex#2662, ... 18 more fields]\\n                                                               +- Project [class#10, cap-shape#11, cap-surface#12, cap-color#13, bruises#14, odor#15, gill-attachment#16, gill-spacing#17, gill-size#18, gill-color#19, stalk-shape#20, stalk-surface-above-ring#22, stalk-surface-below-ring#23, stalk-color-above-ring#24, stalk-color-below-ring#25, veil-color#27, ring-number#28, ring-type#29, spore-print-color#30, population#31, habitat#32, cap-shapeIndex#2614, cap-shapeclassVec#2638, cap-surfaceIndex#2662, ... 17 more fields]\\n                                                                  +- Project [class#10, cap-shape#11, cap-surface#12, cap-color#13, bruises#14, odor#15, gill-attachment#16, gill-spacing#17, gill-size#18, gill-color#19, stalk-shape#20, stalk-surface-above-ring#22, stalk-surface-below-ring#23, stalk-color-above-ring#24, stalk-color-below-ring#25, veil-color#27, ring-number#28, ring-type#29, spore-print-color#30, population#31, habitat#32, cap-shapeIndex#2614, cap-shapeclassVec#2638, cap-surfaceIndex#2662, ... 16 more fields]\\n                                                                     +- Project [class#10, cap-shape#11, cap-surface#12, cap-color#13, bruises#14, odor#15, gill-attachment#16, gill-spacing#17, gill-size#18, gill-color#19, stalk-shape#20, stalk-surface-above-ring#22, stalk-surface-below-ring#23, stalk-color-above-ring#24, stalk-color-below-ring#25, veil-color#27, ring-number#28, ring-type#29, spore-print-color#30, population#31, habitat#32, cap-shapeIndex#2614, cap-shapeclassVec#2638, cap-surfaceIndex#2662, ... 15 more fields]\\n                                                                        +- Project [class#10, cap-shape#11, cap-surface#12, cap-color#13, bruises#14, odor#15, gill-attachment#16, gill-spacing#17, gill-size#18, gill-color#19, stalk-shape#20, stalk-surface-above-ring#22, stalk-surface-below-ring#23, stalk-color-above-ring#24, stalk-color-below-ring#25, veil-color#27, ring-number#28, ring-type#29, spore-print-color#30, population#31, habitat#32, cap-shapeIndex#2614, cap-shapeclassVec#2638, cap-surfaceIndex#2662, ... 14 more fields]\\n                                                                           +- Project [class#10, cap-shape#11, cap-surface#12, cap-color#13, bruises#14, odor#15, gill-attachment#16, gill-spacing#17, gill-size#18, gill-color#19, stalk-shape#20, stalk-surface-above-ring#22, stalk-surface-below-ring#23, stalk-color-above-ring#24, stalk-color-below-ring#25, veil-color#27, ring-number#28, ring-type#29, spore-print-color#30, population#31, habitat#32, cap-shapeIndex#2614, cap-shapeclassVec#2638, cap-surfaceIndex#2662, ... 13 more fields]\\n                                                                              +- Project [class#10, cap-shape#11, cap-surface#12, cap-color#13, bruises#14, odor#15, gill-attachment#16, gill-spacing#17, gill-size#18, gill-color#19, stalk-shape#20, stalk-surface-above-ring#22, stalk-surface-below-ring#23, stalk-color-above-ring#24, stalk-color-below-ring#25, veil-color#27, ring-number#28, ring-type#29, spore-print-color#30, population#31, habitat#32, cap-shapeIndex#2614, cap-shapeclassVec#2638, cap-surfaceIndex#2662, ... 12 more fields]\\n                                                                                 +- Project [class#10, cap-shape#11, cap-surface#12, cap-color#13, bruises#14, odor#15, gill-attachment#16, gill-spacing#17, gill-size#18, gill-color#19, stalk-shape#20, stalk-surface-above-ring#22, stalk-surface-below-ring#23, stalk-color-above-ring#24, stalk-color-below-ring#25, veil-color#27, ring-number#28, ring-type#29, spore-print-color#30, population#31, habitat#32, cap-shapeIndex#2614, cap-shapeclassVec#2638, cap-surfaceIndex#2662, ... 11 more fields]\\n                                                                                    +- Project [class#10, cap-shape#11, cap-surface#12, cap-color#13, bruises#14, odor#15, gill-attachment#16, gill-spacing#17, gill-size#18, gill-color#19, stalk-shape#20, stalk-surface-above-ring#22, stalk-surface-below-ring#23, stalk-color-above-ring#24, stalk-color-below-ring#25, veil-color#27, ring-number#28, ring-type#29, spore-print-color#30, population#31, habitat#32, cap-shapeIndex#2614, cap-shapeclassVec#2638, cap-surfaceIndex#2662, ... 10 more fields]\\n                                                                                       +- Project [class#10, cap-shape#11, cap-surface#12, cap-color#13, bruises#14, odor#15, gill-attachment#16, gill-spacing#17, gill-size#18, gill-color#19, stalk-shape#20, stalk-surface-above-ring#22, stalk-surface-below-ring#23, stalk-color-above-ring#24, stalk-color-below-ring#25, veil-color#27, ring-number#28, ring-type#29, spore-print-color#30, population#31, habitat#32, cap-shapeIndex#2614, cap-shapeclassVec#2638, cap-surfaceIndex#2662, ... 9 more fields]\\n                                                                                          +- Project [class#10, cap-shape#11, cap-surface#12, cap-color#13, bruises#14, odor#15, gill-attachment#16, gill-spacing#17, gill-size#18, gill-color#19, stalk-shape#20, stalk-surface-above-ring#22, stalk-surface-below-ring#23, stalk-color-above-ring#24, stalk-color-below-ring#25, veil-color#27, ring-number#28, ring-type#29, spore-print-color#30, population#31, habitat#32, cap-shapeIndex#2614, cap-shapeclassVec#2638, cap-surfaceIndex#2662, ... 8 more fields]\\n                                                                                             +- Project [class#10, cap-shape#11, cap-surface#12, cap-color#13, bruises#14, odor#15, gill-attachment#16, gill-spacing#17, gill-size#18, gill-color#19, stalk-shape#20, stalk-surface-above-ring#22, stalk-surface-below-ring#23, stalk-color-above-ring#24, stalk-color-below-ring#25, veil-color#27, ring-number#28, ring-type#29, spore-print-color#30, population#31, habitat#32, cap-shapeIndex#2614, cap-shapeclassVec#2638, cap-surfaceIndex#2662, ... 7 more fields]\\n                                                                                                +- Project [class#10, cap-shape#11, cap-surface#12, cap-color#13, bruises#14, odor#15, gill-attachment#16, gill-spacing#17, gill-size#18, gill-color#19, stalk-shape#20, stalk-surface-above-ring#22, stalk-surface-below-ring#23, stalk-color-above-ring#24, stalk-color-below-ring#25, veil-color#27, ring-number#28, ring-type#29, spore-print-color#30, population#31, habitat#32, cap-shapeIndex#2614, cap-shapeclassVec#2638, cap-surfaceIndex#2662, ... 6 more fields]\\n                                                                                                   +- Project [class#10, cap-shape#11, cap-surface#12, cap-color#13, bruises#14, odor#15, gill-attachment#16, gill-spacing#17, gill-size#18, gill-color#19, stalk-shape#20, stalk-surface-above-ring#22, stalk-surface-below-ring#23, stalk-color-above-ring#24, stalk-color-below-ring#25, veil-color#27, ring-number#28, ring-type#29, spore-print-color#30, population#31, habitat#32, cap-shapeIndex#2614, cap-shapeclassVec#2638, cap-surfaceIndex#2662, ... 5 more fields]\\n                                                                                                      +- Project [class#10, cap-shape#11, cap-surface#12, cap-color#13, bruises#14, odor#15, gill-attachment#16, gill-spacing#17, gill-size#18, gill-color#19, stalk-shape#20, stalk-surface-above-ring#22, stalk-surface-below-ring#23, stalk-color-above-ring#24, stalk-color-below-ring#25, veil-color#27, ring-number#28, ring-type#29, spore-print-color#30, population#31, habitat#32, cap-shapeIndex#2614, cap-shapeclassVec#2638, cap-surfaceIndex#2662, ... 4 more fields]\\n                                                                                                         +- Project [class#10, cap-shape#11, cap-surface#12, cap-color#13, bruises#14, odor#15, gill-attachment#16, gill-spacing#17, gill-size#18, gill-color#19, stalk-shape#20, stalk-surface-above-ring#22, stalk-surface-below-ring#23, stalk-color-above-ring#24, stalk-color-below-ring#25, veil-color#27, ring-number#28, ring-type#29, spore-print-color#30, population#31, habitat#32, cap-shapeIndex#2614, cap-shapeclassVec#2638, cap-surfaceIndex#2662, ... 3 more fields]\\n                                                                                                            +- Project [class#10, cap-shape#11, cap-surface#12, cap-color#13, bruises#14, odor#15, gill-attachment#16, gill-spacing#17, gill-size#18, gill-color#19, stalk-shape#20, stalk-surface-above-ring#22, stalk-surface-below-ring#23, stalk-color-above-ring#24, stalk-color-below-ring#25, veil-color#27, ring-number#28, ring-type#29, spore-print-color#30, population#31, habitat#32, cap-shapeIndex#2614, cap-shapeclassVec#2638, cap-surfaceIndex#2662, ... 2 more fields]\\n                                                                                                               +- Project [class#10, cap-shape#11, cap-surface#12, cap-color#13, bruises#14, odor#15, gill-attachment#16, gill-spacing#17, gill-size#18, gill-color#19, stalk-shape#20, stalk-surface-above-ring#22, stalk-surface-below-ring#23, stalk-color-above-ring#24, stalk-color-below-ring#25, veil-color#27, ring-number#28, ring-type#29, spore-print-color#30, population#31, habitat#32, cap-shapeIndex#2614, cap-shapeclassVec#2638, cap-surfaceIndex#2662, if ((isnull(cast(cap-surfaceIndex#2662 as double)) || isnull(0))) null else UDF(cast(cap-surfaceIndex#2662 as double), 0) AS cap-surfaceclassVec#2688]\\n                                                                                                                  +- Project [class#10, cap-shape#11, cap-surface#12, cap-color#13, bruises#14, odor#15, gill-attachment#16, gill-spacing#17, gill-size#18, gill-color#19, stalk-shape#20, stalk-surface-above-ring#22, stalk-surface-below-ring#23, stalk-color-above-ring#24, stalk-color-below-ring#25, veil-color#27, ring-number#28, ring-type#29, spore-print-color#30, population#31, habitat#32, cap-shapeIndex#2614, cap-shapeclassVec#2638, UDF(cast(cap-surface#12 as string)) AS cap-surfaceIndex#2662]\\n                                                                                                                     +- Project [class#10, cap-shape#11, cap-surface#12, cap-color#13, bruises#14, odor#15, gill-attachment#16, gill-spacing#17, gill-size#18, gill-color#19, stalk-shape#20, stalk-surface-above-ring#22, stalk-surface-below-ring#23, stalk-color-above-ring#24, stalk-color-below-ring#25, veil-color#27, ring-number#28, ring-type#29, spore-print-color#30, population#31, habitat#32, cap-shapeIndex#2614, if ((isnull(cast(cap-shapeIndex#2614 as double)) || isnull(0))) null else UDF(cast(cap-shapeIndex#2614 as double), 0) AS cap-shapeclassVec#2638]\\n                                                                                                                        +- Project [class#10, cap-shape#11, cap-surface#12, cap-color#13, bruises#14, odor#15, gill-attachment#16, gill-spacing#17, gill-size#18, gill-color#19, stalk-shape#20, stalk-surface-above-ring#22, stalk-surface-below-ring#23, stalk-color-above-ring#24, stalk-color-below-ring#25, veil-color#27, ring-number#28, ring-type#29, spore-print-color#30, population#31, habitat#32, UDF(cast(cap-shape#11 as string)) AS cap-shapeIndex#2614]\\n                                                                                                                           +- Project [class#10, cap-shape#11, cap-surface#12, cap-color#13, bruises#14, odor#15, gill-attachment#16, gill-spacing#17, gill-size#18, gill-color#19, stalk-shape#20, stalk-surface-above-ring#22, stalk-surface-below-ring#23, stalk-color-above-ring#24, stalk-color-below-ring#25, veil-color#27, ring-number#28, ring-type#29, spore-print-color#30, population#31, habitat#32]\\n                                                                                                                              +- Relation[class#10,cap-shape#11,cap-surface#12,cap-color#13,bruises#14,odor#15,gill-attachment#16,gill-spacing#17,gill-size#18,gill-color#19,stalk-shape#20,stalk-root#21,stalk-surface-above-ring#22,stalk-surface-below-ring#23,stalk-color-above-ring#24,stalk-color-below-ring#25,veil-type#26,veil-color#27,ring-number#28,ring-type#29,spore-print-color#30,population#31,habitat#32] csv\\n\"",
     "output_type": "error",
     "traceback": [
      "\u001b[0;31m---------------------------------------------------------------------------\u001b[0m",
      "\u001b[0;31mPy4JJavaError\u001b[0m                             Traceback (most recent call last)",
      "\u001b[0;32m~/.local/lib/python3.6/site-packages/pyspark/sql/utils.py\u001b[0m in \u001b[0;36mdeco\u001b[0;34m(*a, **kw)\u001b[0m\n\u001b[1;32m     62\u001b[0m         \u001b[0;32mtry\u001b[0m\u001b[0;34m:\u001b[0m\u001b[0;34m\u001b[0m\u001b[0;34m\u001b[0m\u001b[0m\n\u001b[0;32m---> 63\u001b[0;31m             \u001b[0;32mreturn\u001b[0m \u001b[0mf\u001b[0m\u001b[0;34m(\u001b[0m\u001b[0;34m*\u001b[0m\u001b[0ma\u001b[0m\u001b[0;34m,\u001b[0m \u001b[0;34m**\u001b[0m\u001b[0mkw\u001b[0m\u001b[0;34m)\u001b[0m\u001b[0;34m\u001b[0m\u001b[0;34m\u001b[0m\u001b[0m\n\u001b[0m\u001b[1;32m     64\u001b[0m         \u001b[0;32mexcept\u001b[0m \u001b[0mpy4j\u001b[0m\u001b[0;34m.\u001b[0m\u001b[0mprotocol\u001b[0m\u001b[0;34m.\u001b[0m\u001b[0mPy4JJavaError\u001b[0m \u001b[0;32mas\u001b[0m \u001b[0me\u001b[0m\u001b[0;34m:\u001b[0m\u001b[0;34m\u001b[0m\u001b[0;34m\u001b[0m\u001b[0m\n",
      "\u001b[0;32m~/.local/lib/python3.6/site-packages/py4j/protocol.py\u001b[0m in \u001b[0;36mget_return_value\u001b[0;34m(answer, gateway_client, target_id, name)\u001b[0m\n\u001b[1;32m    327\u001b[0m                     \u001b[0;34m\"An error occurred while calling {0}{1}{2}.\\n\"\u001b[0m\u001b[0;34m.\u001b[0m\u001b[0;34m\u001b[0m\u001b[0;34m\u001b[0m\u001b[0m\n\u001b[0;32m--> 328\u001b[0;31m                     format(target_id, \".\", name), value)\n\u001b[0m\u001b[1;32m    329\u001b[0m             \u001b[0;32melse\u001b[0m\u001b[0;34m:\u001b[0m\u001b[0;34m\u001b[0m\u001b[0;34m\u001b[0m\u001b[0m\n",
      "\u001b[0;31mPy4JJavaError\u001b[0m: An error occurred while calling o2238.select.\n: org.apache.spark.sql.AnalysisException: cannot resolve '`label`' given input columns: [ring-typeclassVec, stalk-color-above-ringclassVec, gill-colorclassVec, ring-typeIndex, cap-shapeIndex, stalk-color-below-ring, veil-colorIndex, stalk-color-below-ringIndex, gill-spacingclassVec, spore-print-colorclassVec, bruises, odorIndex, cap-surfaceIndex, cap-surfaceclassVec, stalk-surface-below-ring, ring-numberIndex, habitat, gill-sizeclassVec, cap-colorclassVec, gill-size, gill-attachmentclassVec, stalk-surface-below-ringclassVec, gill-colorIndex, habitatIndex, features, populationclassVec, gill-color, ring-numberclassVec, stalk-shapeclassVec, cap-surface, cap-colorIndex, stalk-color-above-ringIndex, stalk-surface-above-ringIndex, gill-spacingIndex, gill-spacing, ring-number, veil-color, stalk-surface-above-ringclassVec, population, stalk-color-below-ringclassVec, gill-sizeIndex, gill-attachmentIndex, spore-print-color, class, stalk-surface-above-ring, cap-shape, gill-attachment, stalk-shape, spore-print-colorIndex, cap-shapeclassVec, odorclassVec, cap-color, stalk-shapeIndex, stalk-color-above-ring, bruisesIndex, bruisesclassVec, populationIndex, veil-colorclassVec, odor, stalk-surface-below-ringIndex, ring-type, habitatclassVec];;\n'Project ['label, features#4334, class#10, cap-shape#11, cap-surface#12, cap-color#13, bruises#14, odor#15, gill-attachment#16, gill-spacing#17, gill-size#18, gill-color#19, stalk-shape#20, stalk-surface-above-ring#22, stalk-surface-below-ring#23, stalk-color-above-ring#24, stalk-color-below-ring#25, veil-color#27, ring-number#28, ring-type#29, spore-print-color#30, population#31, habitat#32]\n+- Project [class#10, cap-shape#11, cap-surface#12, cap-color#13, bruises#14, odor#15, gill-attachment#16, gill-spacing#17, gill-size#18, gill-color#19, stalk-shape#20, stalk-surface-above-ring#22, stalk-surface-below-ring#23, stalk-color-above-ring#24, stalk-color-below-ring#25, veil-color#27, ring-number#28, ring-type#29, spore-print-color#30, population#31, habitat#32, cap-shapeIndex#2614, cap-shapeclassVec#2638, cap-surfaceIndex#2662, ... 38 more fields]\n   +- Project [class#10, cap-shape#11, cap-surface#12, cap-color#13, bruises#14, odor#15, gill-attachment#16, gill-spacing#17, gill-size#18, gill-color#19, stalk-shape#20, stalk-surface-above-ring#22, stalk-surface-below-ring#23, stalk-color-above-ring#24, stalk-color-below-ring#25, veil-color#27, ring-number#28, ring-type#29, spore-print-color#30, population#31, habitat#32, cap-shapeIndex#2614, cap-shapeclassVec#2638, cap-surfaceIndex#2662, ... 37 more fields]\n      +- Project [class#10, cap-shape#11, cap-surface#12, cap-color#13, bruises#14, odor#15, gill-attachment#16, gill-spacing#17, gill-size#18, gill-color#19, stalk-shape#20, stalk-surface-above-ring#22, stalk-surface-below-ring#23, stalk-color-above-ring#24, stalk-color-below-ring#25, veil-color#27, ring-number#28, ring-type#29, spore-print-color#30, population#31, habitat#32, cap-shapeIndex#2614, cap-shapeclassVec#2638, cap-surfaceIndex#2662, ... 36 more fields]\n         +- Project [class#10, cap-shape#11, cap-surface#12, cap-color#13, bruises#14, odor#15, gill-attachment#16, gill-spacing#17, gill-size#18, gill-color#19, stalk-shape#20, stalk-surface-above-ring#22, stalk-surface-below-ring#23, stalk-color-above-ring#24, stalk-color-below-ring#25, veil-color#27, ring-number#28, ring-type#29, spore-print-color#30, population#31, habitat#32, cap-shapeIndex#2614, cap-shapeclassVec#2638, cap-surfaceIndex#2662, ... 35 more fields]\n            +- Project [class#10, cap-shape#11, cap-surface#12, cap-color#13, bruises#14, odor#15, gill-attachment#16, gill-spacing#17, gill-size#18, gill-color#19, stalk-shape#20, stalk-surface-above-ring#22, stalk-surface-below-ring#23, stalk-color-above-ring#24, stalk-color-below-ring#25, veil-color#27, ring-number#28, ring-type#29, spore-print-color#30, population#31, habitat#32, cap-shapeIndex#2614, cap-shapeclassVec#2638, cap-surfaceIndex#2662, ... 34 more fields]\n               +- Project [class#10, cap-shape#11, cap-surface#12, cap-color#13, bruises#14, odor#15, gill-attachment#16, gill-spacing#17, gill-size#18, gill-color#19, stalk-shape#20, stalk-surface-above-ring#22, stalk-surface-below-ring#23, stalk-color-above-ring#24, stalk-color-below-ring#25, veil-color#27, ring-number#28, ring-type#29, spore-print-color#30, population#31, habitat#32, cap-shapeIndex#2614, cap-shapeclassVec#2638, cap-surfaceIndex#2662, ... 33 more fields]\n                  +- Project [class#10, cap-shape#11, cap-surface#12, cap-color#13, bruises#14, odor#15, gill-attachment#16, gill-spacing#17, gill-size#18, gill-color#19, stalk-shape#20, stalk-surface-above-ring#22, stalk-surface-below-ring#23, stalk-color-above-ring#24, stalk-color-below-ring#25, veil-color#27, ring-number#28, ring-type#29, spore-print-color#30, population#31, habitat#32, cap-shapeIndex#2614, cap-shapeclassVec#2638, cap-surfaceIndex#2662, ... 32 more fields]\n                     +- Project [class#10, cap-shape#11, cap-surface#12, cap-color#13, bruises#14, odor#15, gill-attachment#16, gill-spacing#17, gill-size#18, gill-color#19, stalk-shape#20, stalk-surface-above-ring#22, stalk-surface-below-ring#23, stalk-color-above-ring#24, stalk-color-below-ring#25, veil-color#27, ring-number#28, ring-type#29, spore-print-color#30, population#31, habitat#32, cap-shapeIndex#2614, cap-shapeclassVec#2638, cap-surfaceIndex#2662, ... 31 more fields]\n                        +- Project [class#10, cap-shape#11, cap-surface#12, cap-color#13, bruises#14, odor#15, gill-attachment#16, gill-spacing#17, gill-size#18, gill-color#19, stalk-shape#20, stalk-surface-above-ring#22, stalk-surface-below-ring#23, stalk-color-above-ring#24, stalk-color-below-ring#25, veil-color#27, ring-number#28, ring-type#29, spore-print-color#30, population#31, habitat#32, cap-shapeIndex#2614, cap-shapeclassVec#2638, cap-surfaceIndex#2662, ... 30 more fields]\n                           +- Project [class#10, cap-shape#11, cap-surface#12, cap-color#13, bruises#14, odor#15, gill-attachment#16, gill-spacing#17, gill-size#18, gill-color#19, stalk-shape#20, stalk-surface-above-ring#22, stalk-surface-below-ring#23, stalk-color-above-ring#24, stalk-color-below-ring#25, veil-color#27, ring-number#28, ring-type#29, spore-print-color#30, population#31, habitat#32, cap-shapeIndex#2614, cap-shapeclassVec#2638, cap-surfaceIndex#2662, ... 29 more fields]\n                              +- Project [class#10, cap-shape#11, cap-surface#12, cap-color#13, bruises#14, odor#15, gill-attachment#16, gill-spacing#17, gill-size#18, gill-color#19, stalk-shape#20, stalk-surface-above-ring#22, stalk-surface-below-ring#23, stalk-color-above-ring#24, stalk-color-below-ring#25, veil-color#27, ring-number#28, ring-type#29, spore-print-color#30, population#31, habitat#32, cap-shapeIndex#2614, cap-shapeclassVec#2638, cap-surfaceIndex#2662, ... 28 more fields]\n                                 +- Project [class#10, cap-shape#11, cap-surface#12, cap-color#13, bruises#14, odor#15, gill-attachment#16, gill-spacing#17, gill-size#18, gill-color#19, stalk-shape#20, stalk-surface-above-ring#22, stalk-surface-below-ring#23, stalk-color-above-ring#24, stalk-color-below-ring#25, veil-color#27, ring-number#28, ring-type#29, spore-print-color#30, population#31, habitat#32, cap-shapeIndex#2614, cap-shapeclassVec#2638, cap-surfaceIndex#2662, ... 27 more fields]\n                                    +- Project [class#10, cap-shape#11, cap-surface#12, cap-color#13, bruises#14, odor#15, gill-attachment#16, gill-spacing#17, gill-size#18, gill-color#19, stalk-shape#20, stalk-surface-above-ring#22, stalk-surface-below-ring#23, stalk-color-above-ring#24, stalk-color-below-ring#25, veil-color#27, ring-number#28, ring-type#29, spore-print-color#30, population#31, habitat#32, cap-shapeIndex#2614, cap-shapeclassVec#2638, cap-surfaceIndex#2662, ... 26 more fields]\n                                       +- Project [class#10, cap-shape#11, cap-surface#12, cap-color#13, bruises#14, odor#15, gill-attachment#16, gill-spacing#17, gill-size#18, gill-color#19, stalk-shape#20, stalk-surface-above-ring#22, stalk-surface-below-ring#23, stalk-color-above-ring#24, stalk-color-below-ring#25, veil-color#27, ring-number#28, ring-type#29, spore-print-color#30, population#31, habitat#32, cap-shapeIndex#2614, cap-shapeclassVec#2638, cap-surfaceIndex#2662, ... 25 more fields]\n                                          +- Project [class#10, cap-shape#11, cap-surface#12, cap-color#13, bruises#14, odor#15, gill-attachment#16, gill-spacing#17, gill-size#18, gill-color#19, stalk-shape#20, stalk-surface-above-ring#22, stalk-surface-below-ring#23, stalk-color-above-ring#24, stalk-color-below-ring#25, veil-color#27, ring-number#28, ring-type#29, spore-print-color#30, population#31, habitat#32, cap-shapeIndex#2614, cap-shapeclassVec#2638, cap-surfaceIndex#2662, ... 24 more fields]\n                                             +- Project [class#10, cap-shape#11, cap-surface#12, cap-color#13, bruises#14, odor#15, gill-attachment#16, gill-spacing#17, gill-size#18, gill-color#19, stalk-shape#20, stalk-surface-above-ring#22, stalk-surface-below-ring#23, stalk-color-above-ring#24, stalk-color-below-ring#25, veil-color#27, ring-number#28, ring-type#29, spore-print-color#30, population#31, habitat#32, cap-shapeIndex#2614, cap-shapeclassVec#2638, cap-surfaceIndex#2662, ... 23 more fields]\n                                                +- Project [class#10, cap-shape#11, cap-surface#12, cap-color#13, bruises#14, odor#15, gill-attachment#16, gill-spacing#17, gill-size#18, gill-color#19, stalk-shape#20, stalk-surface-above-ring#22, stalk-surface-below-ring#23, stalk-color-above-ring#24, stalk-color-below-ring#25, veil-color#27, ring-number#28, ring-type#29, spore-print-color#30, population#31, habitat#32, cap-shapeIndex#2614, cap-shapeclassVec#2638, cap-surfaceIndex#2662, ... 22 more fields]\n                                                   +- Project [class#10, cap-shape#11, cap-surface#12, cap-color#13, bruises#14, odor#15, gill-attachment#16, gill-spacing#17, gill-size#18, gill-color#19, stalk-shape#20, stalk-surface-above-ring#22, stalk-surface-below-ring#23, stalk-color-above-ring#24, stalk-color-below-ring#25, veil-color#27, ring-number#28, ring-type#29, spore-print-color#30, population#31, habitat#32, cap-shapeIndex#2614, cap-shapeclassVec#2638, cap-surfaceIndex#2662, ... 21 more fields]\n                                                      +- Project [class#10, cap-shape#11, cap-surface#12, cap-color#13, bruises#14, odor#15, gill-attachment#16, gill-spacing#17, gill-size#18, gill-color#19, stalk-shape#20, stalk-surface-above-ring#22, stalk-surface-below-ring#23, stalk-color-above-ring#24, stalk-color-below-ring#25, veil-color#27, ring-number#28, ring-type#29, spore-print-color#30, population#31, habitat#32, cap-shapeIndex#2614, cap-shapeclassVec#2638, cap-surfaceIndex#2662, ... 20 more fields]\n                                                         +- Project [class#10, cap-shape#11, cap-surface#12, cap-color#13, bruises#14, odor#15, gill-attachment#16, gill-spacing#17, gill-size#18, gill-color#19, stalk-shape#20, stalk-surface-above-ring#22, stalk-surface-below-ring#23, stalk-color-above-ring#24, stalk-color-below-ring#25, veil-color#27, ring-number#28, ring-type#29, spore-print-color#30, population#31, habitat#32, cap-shapeIndex#2614, cap-shapeclassVec#2638, cap-surfaceIndex#2662, ... 19 more fields]\n                                                            +- Project [class#10, cap-shape#11, cap-surface#12, cap-color#13, bruises#14, odor#15, gill-attachment#16, gill-spacing#17, gill-size#18, gill-color#19, stalk-shape#20, stalk-surface-above-ring#22, stalk-surface-below-ring#23, stalk-color-above-ring#24, stalk-color-below-ring#25, veil-color#27, ring-number#28, ring-type#29, spore-print-color#30, population#31, habitat#32, cap-shapeIndex#2614, cap-shapeclassVec#2638, cap-surfaceIndex#2662, ... 18 more fields]\n                                                               +- Project [class#10, cap-shape#11, cap-surface#12, cap-color#13, bruises#14, odor#15, gill-attachment#16, gill-spacing#17, gill-size#18, gill-color#19, stalk-shape#20, stalk-surface-above-ring#22, stalk-surface-below-ring#23, stalk-color-above-ring#24, stalk-color-below-ring#25, veil-color#27, ring-number#28, ring-type#29, spore-print-color#30, population#31, habitat#32, cap-shapeIndex#2614, cap-shapeclassVec#2638, cap-surfaceIndex#2662, ... 17 more fields]\n                                                                  +- Project [class#10, cap-shape#11, cap-surface#12, cap-color#13, bruises#14, odor#15, gill-attachment#16, gill-spacing#17, gill-size#18, gill-color#19, stalk-shape#20, stalk-surface-above-ring#22, stalk-surface-below-ring#23, stalk-color-above-ring#24, stalk-color-below-ring#25, veil-color#27, ring-number#28, ring-type#29, spore-print-color#30, population#31, habitat#32, cap-shapeIndex#2614, cap-shapeclassVec#2638, cap-surfaceIndex#2662, ... 16 more fields]\n                                                                     +- Project [class#10, cap-shape#11, cap-surface#12, cap-color#13, bruises#14, odor#15, gill-attachment#16, gill-spacing#17, gill-size#18, gill-color#19, stalk-shape#20, stalk-surface-above-ring#22, stalk-surface-below-ring#23, stalk-color-above-ring#24, stalk-color-below-ring#25, veil-color#27, ring-number#28, ring-type#29, spore-print-color#30, population#31, habitat#32, cap-shapeIndex#2614, cap-shapeclassVec#2638, cap-surfaceIndex#2662, ... 15 more fields]\n                                                                        +- Project [class#10, cap-shape#11, cap-surface#12, cap-color#13, bruises#14, odor#15, gill-attachment#16, gill-spacing#17, gill-size#18, gill-color#19, stalk-shape#20, stalk-surface-above-ring#22, stalk-surface-below-ring#23, stalk-color-above-ring#24, stalk-color-below-ring#25, veil-color#27, ring-number#28, ring-type#29, spore-print-color#30, population#31, habitat#32, cap-shapeIndex#2614, cap-shapeclassVec#2638, cap-surfaceIndex#2662, ... 14 more fields]\n                                                                           +- Project [class#10, cap-shape#11, cap-surface#12, cap-color#13, bruises#14, odor#15, gill-attachment#16, gill-spacing#17, gill-size#18, gill-color#19, stalk-shape#20, stalk-surface-above-ring#22, stalk-surface-below-ring#23, stalk-color-above-ring#24, stalk-color-below-ring#25, veil-color#27, ring-number#28, ring-type#29, spore-print-color#30, population#31, habitat#32, cap-shapeIndex#2614, cap-shapeclassVec#2638, cap-surfaceIndex#2662, ... 13 more fields]\n                                                                              +- Project [class#10, cap-shape#11, cap-surface#12, cap-color#13, bruises#14, odor#15, gill-attachment#16, gill-spacing#17, gill-size#18, gill-color#19, stalk-shape#20, stalk-surface-above-ring#22, stalk-surface-below-ring#23, stalk-color-above-ring#24, stalk-color-below-ring#25, veil-color#27, ring-number#28, ring-type#29, spore-print-color#30, population#31, habitat#32, cap-shapeIndex#2614, cap-shapeclassVec#2638, cap-surfaceIndex#2662, ... 12 more fields]\n                                                                                 +- Project [class#10, cap-shape#11, cap-surface#12, cap-color#13, bruises#14, odor#15, gill-attachment#16, gill-spacing#17, gill-size#18, gill-color#19, stalk-shape#20, stalk-surface-above-ring#22, stalk-surface-below-ring#23, stalk-color-above-ring#24, stalk-color-below-ring#25, veil-color#27, ring-number#28, ring-type#29, spore-print-color#30, population#31, habitat#32, cap-shapeIndex#2614, cap-shapeclassVec#2638, cap-surfaceIndex#2662, ... 11 more fields]\n                                                                                    +- Project [class#10, cap-shape#11, cap-surface#12, cap-color#13, bruises#14, odor#15, gill-attachment#16, gill-spacing#17, gill-size#18, gill-color#19, stalk-shape#20, stalk-surface-above-ring#22, stalk-surface-below-ring#23, stalk-color-above-ring#24, stalk-color-below-ring#25, veil-color#27, ring-number#28, ring-type#29, spore-print-color#30, population#31, habitat#32, cap-shapeIndex#2614, cap-shapeclassVec#2638, cap-surfaceIndex#2662, ... 10 more fields]\n                                                                                       +- Project [class#10, cap-shape#11, cap-surface#12, cap-color#13, bruises#14, odor#15, gill-attachment#16, gill-spacing#17, gill-size#18, gill-color#19, stalk-shape#20, stalk-surface-above-ring#22, stalk-surface-below-ring#23, stalk-color-above-ring#24, stalk-color-below-ring#25, veil-color#27, ring-number#28, ring-type#29, spore-print-color#30, population#31, habitat#32, cap-shapeIndex#2614, cap-shapeclassVec#2638, cap-surfaceIndex#2662, ... 9 more fields]\n                                                                                          +- Project [class#10, cap-shape#11, cap-surface#12, cap-color#13, bruises#14, odor#15, gill-attachment#16, gill-spacing#17, gill-size#18, gill-color#19, stalk-shape#20, stalk-surface-above-ring#22, stalk-surface-below-ring#23, stalk-color-above-ring#24, stalk-color-below-ring#25, veil-color#27, ring-number#28, ring-type#29, spore-print-color#30, population#31, habitat#32, cap-shapeIndex#2614, cap-shapeclassVec#2638, cap-surfaceIndex#2662, ... 8 more fields]\n                                                                                             +- Project [class#10, cap-shape#11, cap-surface#12, cap-color#13, bruises#14, odor#15, gill-attachment#16, gill-spacing#17, gill-size#18, gill-color#19, stalk-shape#20, stalk-surface-above-ring#22, stalk-surface-below-ring#23, stalk-color-above-ring#24, stalk-color-below-ring#25, veil-color#27, ring-number#28, ring-type#29, spore-print-color#30, population#31, habitat#32, cap-shapeIndex#2614, cap-shapeclassVec#2638, cap-surfaceIndex#2662, ... 7 more fields]\n                                                                                                +- Project [class#10, cap-shape#11, cap-surface#12, cap-color#13, bruises#14, odor#15, gill-attachment#16, gill-spacing#17, gill-size#18, gill-color#19, stalk-shape#20, stalk-surface-above-ring#22, stalk-surface-below-ring#23, stalk-color-above-ring#24, stalk-color-below-ring#25, veil-color#27, ring-number#28, ring-type#29, spore-print-color#30, population#31, habitat#32, cap-shapeIndex#2614, cap-shapeclassVec#2638, cap-surfaceIndex#2662, ... 6 more fields]\n                                                                                                   +- Project [class#10, cap-shape#11, cap-surface#12, cap-color#13, bruises#14, odor#15, gill-attachment#16, gill-spacing#17, gill-size#18, gill-color#19, stalk-shape#20, stalk-surface-above-ring#22, stalk-surface-below-ring#23, stalk-color-above-ring#24, stalk-color-below-ring#25, veil-color#27, ring-number#28, ring-type#29, spore-print-color#30, population#31, habitat#32, cap-shapeIndex#2614, cap-shapeclassVec#2638, cap-surfaceIndex#2662, ... 5 more fields]\n                                                                                                      +- Project [class#10, cap-shape#11, cap-surface#12, cap-color#13, bruises#14, odor#15, gill-attachment#16, gill-spacing#17, gill-size#18, gill-color#19, stalk-shape#20, stalk-surface-above-ring#22, stalk-surface-below-ring#23, stalk-color-above-ring#24, stalk-color-below-ring#25, veil-color#27, ring-number#28, ring-type#29, spore-print-color#30, population#31, habitat#32, cap-shapeIndex#2614, cap-shapeclassVec#2638, cap-surfaceIndex#2662, ... 4 more fields]\n                                                                                                         +- Project [class#10, cap-shape#11, cap-surface#12, cap-color#13, bruises#14, odor#15, gill-attachment#16, gill-spacing#17, gill-size#18, gill-color#19, stalk-shape#20, stalk-surface-above-ring#22, stalk-surface-below-ring#23, stalk-color-above-ring#24, stalk-color-below-ring#25, veil-color#27, ring-number#28, ring-type#29, spore-print-color#30, population#31, habitat#32, cap-shapeIndex#2614, cap-shapeclassVec#2638, cap-surfaceIndex#2662, ... 3 more fields]\n                                                                                                            +- Project [class#10, cap-shape#11, cap-surface#12, cap-color#13, bruises#14, odor#15, gill-attachment#16, gill-spacing#17, gill-size#18, gill-color#19, stalk-shape#20, stalk-surface-above-ring#22, stalk-surface-below-ring#23, stalk-color-above-ring#24, stalk-color-below-ring#25, veil-color#27, ring-number#28, ring-type#29, spore-print-color#30, population#31, habitat#32, cap-shapeIndex#2614, cap-shapeclassVec#2638, cap-surfaceIndex#2662, ... 2 more fields]\n                                                                                                               +- Project [class#10, cap-shape#11, cap-surface#12, cap-color#13, bruises#14, odor#15, gill-attachment#16, gill-spacing#17, gill-size#18, gill-color#19, stalk-shape#20, stalk-surface-above-ring#22, stalk-surface-below-ring#23, stalk-color-above-ring#24, stalk-color-below-ring#25, veil-color#27, ring-number#28, ring-type#29, spore-print-color#30, population#31, habitat#32, cap-shapeIndex#2614, cap-shapeclassVec#2638, cap-surfaceIndex#2662, if ((isnull(cast(cap-surfaceIndex#2662 as double)) || isnull(0))) null else UDF(cast(cap-surfaceIndex#2662 as double), 0) AS cap-surfaceclassVec#2688]\n                                                                                                                  +- Project [class#10, cap-shape#11, cap-surface#12, cap-color#13, bruises#14, odor#15, gill-attachment#16, gill-spacing#17, gill-size#18, gill-color#19, stalk-shape#20, stalk-surface-above-ring#22, stalk-surface-below-ring#23, stalk-color-above-ring#24, stalk-color-below-ring#25, veil-color#27, ring-number#28, ring-type#29, spore-print-color#30, population#31, habitat#32, cap-shapeIndex#2614, cap-shapeclassVec#2638, UDF(cast(cap-surface#12 as string)) AS cap-surfaceIndex#2662]\n                                                                                                                     +- Project [class#10, cap-shape#11, cap-surface#12, cap-color#13, bruises#14, odor#15, gill-attachment#16, gill-spacing#17, gill-size#18, gill-color#19, stalk-shape#20, stalk-surface-above-ring#22, stalk-surface-below-ring#23, stalk-color-above-ring#24, stalk-color-below-ring#25, veil-color#27, ring-number#28, ring-type#29, spore-print-color#30, population#31, habitat#32, cap-shapeIndex#2614, if ((isnull(cast(cap-shapeIndex#2614 as double)) || isnull(0))) null else UDF(cast(cap-shapeIndex#2614 as double), 0) AS cap-shapeclassVec#2638]\n                                                                                                                        +- Project [class#10, cap-shape#11, cap-surface#12, cap-color#13, bruises#14, odor#15, gill-attachment#16, gill-spacing#17, gill-size#18, gill-color#19, stalk-shape#20, stalk-surface-above-ring#22, stalk-surface-below-ring#23, stalk-color-above-ring#24, stalk-color-below-ring#25, veil-color#27, ring-number#28, ring-type#29, spore-print-color#30, population#31, habitat#32, UDF(cast(cap-shape#11 as string)) AS cap-shapeIndex#2614]\n                                                                                                                           +- Project [class#10, cap-shape#11, cap-surface#12, cap-color#13, bruises#14, odor#15, gill-attachment#16, gill-spacing#17, gill-size#18, gill-color#19, stalk-shape#20, stalk-surface-above-ring#22, stalk-surface-below-ring#23, stalk-color-above-ring#24, stalk-color-below-ring#25, veil-color#27, ring-number#28, ring-type#29, spore-print-color#30, population#31, habitat#32]\n                                                                                                                              +- Relation[class#10,cap-shape#11,cap-surface#12,cap-color#13,bruises#14,odor#15,gill-attachment#16,gill-spacing#17,gill-size#18,gill-color#19,stalk-shape#20,stalk-root#21,stalk-surface-above-ring#22,stalk-surface-below-ring#23,stalk-color-above-ring#24,stalk-color-below-ring#25,veil-type#26,veil-color#27,ring-number#28,ring-type#29,spore-print-color#30,population#31,habitat#32] csv\n\n\tat org.apache.spark.sql.catalyst.analysis.package$AnalysisErrorAt.failAnalysis(package.scala:42)\n\tat org.apache.spark.sql.catalyst.analysis.CheckAnalysis$$anonfun$checkAnalysis$1$$anonfun$apply$3.applyOrElse(CheckAnalysis.scala:111)\n\tat org.apache.spark.sql.catalyst.analysis.CheckAnalysis$$anonfun$checkAnalysis$1$$anonfun$apply$3.applyOrElse(CheckAnalysis.scala:108)\n\tat org.apache.spark.sql.catalyst.trees.TreeNode$$anonfun$transformUp$1.apply(TreeNode.scala:280)\n\tat org.apache.spark.sql.catalyst.trees.TreeNode$$anonfun$transformUp$1.apply(TreeNode.scala:280)\n\tat org.apache.spark.sql.catalyst.trees.CurrentOrigin$.withOrigin(TreeNode.scala:69)\n\tat org.apache.spark.sql.catalyst.trees.TreeNode.transformUp(TreeNode.scala:279)\n\tat org.apache.spark.sql.catalyst.plans.QueryPlan$$anonfun$transformExpressionsUp$1.apply(QueryPlan.scala:93)\n\tat org.apache.spark.sql.catalyst.plans.QueryPlan$$anonfun$transformExpressionsUp$1.apply(QueryPlan.scala:93)\n\tat org.apache.spark.sql.catalyst.plans.QueryPlan$$anonfun$1.apply(QueryPlan.scala:105)\n\tat org.apache.spark.sql.catalyst.plans.QueryPlan$$anonfun$1.apply(QueryPlan.scala:105)\n\tat org.apache.spark.sql.catalyst.trees.CurrentOrigin$.withOrigin(TreeNode.scala:69)\n\tat org.apache.spark.sql.catalyst.plans.QueryPlan.transformExpression$1(QueryPlan.scala:104)\n\tat org.apache.spark.sql.catalyst.plans.QueryPlan.org$apache$spark$sql$catalyst$plans$QueryPlan$$recursiveTransform$1(QueryPlan.scala:116)\n\tat org.apache.spark.sql.catalyst.plans.QueryPlan$$anonfun$org$apache$spark$sql$catalyst$plans$QueryPlan$$recursiveTransform$1$2.apply(QueryPlan.scala:121)\n\tat scala.collection.TraversableLike$$anonfun$map$1.apply(TraversableLike.scala:234)\n\tat scala.collection.TraversableLike$$anonfun$map$1.apply(TraversableLike.scala:234)\n\tat scala.collection.mutable.ResizableArray$class.foreach(ResizableArray.scala:59)\n\tat scala.collection.mutable.ArrayBuffer.foreach(ArrayBuffer.scala:48)\n\tat scala.collection.TraversableLike$class.map(TraversableLike.scala:234)\n\tat scala.collection.AbstractTraversable.map(Traversable.scala:104)\n\tat org.apache.spark.sql.catalyst.plans.QueryPlan.org$apache$spark$sql$catalyst$plans$QueryPlan$$recursiveTransform$1(QueryPlan.scala:121)\n\tat org.apache.spark.sql.catalyst.plans.QueryPlan$$anonfun$2.apply(QueryPlan.scala:126)\n\tat org.apache.spark.sql.catalyst.trees.TreeNode.mapProductIterator(TreeNode.scala:186)\n\tat org.apache.spark.sql.catalyst.plans.QueryPlan.mapExpressions(QueryPlan.scala:126)\n\tat org.apache.spark.sql.catalyst.plans.QueryPlan.transformExpressionsUp(QueryPlan.scala:93)\n\tat org.apache.spark.sql.catalyst.analysis.CheckAnalysis$$anonfun$checkAnalysis$1.apply(CheckAnalysis.scala:108)\n\tat org.apache.spark.sql.catalyst.analysis.CheckAnalysis$$anonfun$checkAnalysis$1.apply(CheckAnalysis.scala:86)\n\tat org.apache.spark.sql.catalyst.trees.TreeNode.foreachUp(TreeNode.scala:126)\n\tat org.apache.spark.sql.catalyst.analysis.CheckAnalysis$class.checkAnalysis(CheckAnalysis.scala:86)\n\tat org.apache.spark.sql.catalyst.analysis.Analyzer.checkAnalysis(Analyzer.scala:95)\n\tat org.apache.spark.sql.catalyst.analysis.Analyzer$$anonfun$executeAndCheck$1.apply(Analyzer.scala:108)\n\tat org.apache.spark.sql.catalyst.analysis.Analyzer$$anonfun$executeAndCheck$1.apply(Analyzer.scala:105)\n\tat org.apache.spark.sql.catalyst.plans.logical.AnalysisHelper$.markInAnalyzer(AnalysisHelper.scala:201)\n\tat org.apache.spark.sql.catalyst.analysis.Analyzer.executeAndCheck(Analyzer.scala:105)\n\tat org.apache.spark.sql.execution.QueryExecution.analyzed$lzycompute(QueryExecution.scala:58)\n\tat org.apache.spark.sql.execution.QueryExecution.analyzed(QueryExecution.scala:56)\n\tat org.apache.spark.sql.execution.QueryExecution.assertAnalyzed(QueryExecution.scala:48)\n\tat org.apache.spark.sql.Dataset$.ofRows(Dataset.scala:78)\n\tat org.apache.spark.sql.Dataset.org$apache$spark$sql$Dataset$$withPlan(Dataset.scala:3412)\n\tat org.apache.spark.sql.Dataset.select(Dataset.scala:1340)\n\tat sun.reflect.NativeMethodAccessorImpl.invoke0(Native Method)\n\tat sun.reflect.NativeMethodAccessorImpl.invoke(NativeMethodAccessorImpl.java:62)\n\tat sun.reflect.DelegatingMethodAccessorImpl.invoke(DelegatingMethodAccessorImpl.java:43)\n\tat java.lang.reflect.Method.invoke(Method.java:498)\n\tat py4j.reflection.MethodInvoker.invoke(MethodInvoker.java:244)\n\tat py4j.reflection.ReflectionEngine.invoke(ReflectionEngine.java:357)\n\tat py4j.Gateway.invoke(Gateway.java:282)\n\tat py4j.commands.AbstractCommand.invokeMethod(AbstractCommand.java:132)\n\tat py4j.commands.CallCommand.execute(CallCommand.java:79)\n\tat py4j.GatewayConnection.run(GatewayConnection.java:238)\n\tat java.lang.Thread.run(Thread.java:748)\n",
      "\nDuring handling of the above exception, another exception occurred:\n",
      "\u001b[0;31mAnalysisException\u001b[0m                         Traceback (most recent call last)",
      "\u001b[0;32m<ipython-input-4-44602ca73194>\u001b[0m in \u001b[0;36m<module>\u001b[0;34m\u001b[0m\n\u001b[1;32m      4\u001b[0m \u001b[0mtrain\u001b[0m \u001b[0;34m=\u001b[0m \u001b[0mpipelineModel\u001b[0m\u001b[0;34m.\u001b[0m\u001b[0mtransform\u001b[0m\u001b[0;34m(\u001b[0m\u001b[0mtrain\u001b[0m\u001b[0;34m)\u001b[0m\u001b[0;34m\u001b[0m\u001b[0;34m\u001b[0m\u001b[0m\n\u001b[1;32m      5\u001b[0m \u001b[0mselectedCols\u001b[0m \u001b[0;34m=\u001b[0m \u001b[0;34m[\u001b[0m\u001b[0;34m'label'\u001b[0m\u001b[0;34m,\u001b[0m\u001b[0;34m'features'\u001b[0m\u001b[0;34m]\u001b[0m \u001b[0;34m+\u001b[0m \u001b[0mcols\u001b[0m\u001b[0;34m\u001b[0m\u001b[0;34m\u001b[0m\u001b[0m\n\u001b[0;32m----> 6\u001b[0;31m \u001b[0mtrain\u001b[0m \u001b[0;34m=\u001b[0m \u001b[0mtrain\u001b[0m\u001b[0;34m.\u001b[0m\u001b[0mselect\u001b[0m\u001b[0;34m(\u001b[0m\u001b[0mselectedCols\u001b[0m\u001b[0;34m)\u001b[0m\u001b[0;34m\u001b[0m\u001b[0;34m\u001b[0m\u001b[0m\n\u001b[0m\u001b[1;32m      7\u001b[0m \u001b[0mtrain\u001b[0m\u001b[0;34m.\u001b[0m\u001b[0mprintSchema\u001b[0m\u001b[0;34m(\u001b[0m\u001b[0;34m)\u001b[0m\u001b[0;34m\u001b[0m\u001b[0;34m\u001b[0m\u001b[0m\n",
      "\u001b[0;32m~/.local/lib/python3.6/site-packages/pyspark/sql/dataframe.py\u001b[0m in \u001b[0;36mselect\u001b[0;34m(self, *cols)\u001b[0m\n\u001b[1;32m   1322\u001b[0m         \u001b[0;34m[\u001b[0m\u001b[0mRow\u001b[0m\u001b[0;34m(\u001b[0m\u001b[0mname\u001b[0m\u001b[0;34m=\u001b[0m\u001b[0;34mu'Alice'\u001b[0m\u001b[0;34m,\u001b[0m \u001b[0mage\u001b[0m\u001b[0;34m=\u001b[0m\u001b[0;36m12\u001b[0m\u001b[0;34m)\u001b[0m\u001b[0;34m,\u001b[0m \u001b[0mRow\u001b[0m\u001b[0;34m(\u001b[0m\u001b[0mname\u001b[0m\u001b[0;34m=\u001b[0m\u001b[0;34mu'Bob'\u001b[0m\u001b[0;34m,\u001b[0m \u001b[0mage\u001b[0m\u001b[0;34m=\u001b[0m\u001b[0;36m15\u001b[0m\u001b[0;34m)\u001b[0m\u001b[0;34m]\u001b[0m\u001b[0;34m\u001b[0m\u001b[0;34m\u001b[0m\u001b[0m\n\u001b[1;32m   1323\u001b[0m         \"\"\"\n\u001b[0;32m-> 1324\u001b[0;31m         \u001b[0mjdf\u001b[0m \u001b[0;34m=\u001b[0m \u001b[0mself\u001b[0m\u001b[0;34m.\u001b[0m\u001b[0m_jdf\u001b[0m\u001b[0;34m.\u001b[0m\u001b[0mselect\u001b[0m\u001b[0;34m(\u001b[0m\u001b[0mself\u001b[0m\u001b[0;34m.\u001b[0m\u001b[0m_jcols\u001b[0m\u001b[0;34m(\u001b[0m\u001b[0;34m*\u001b[0m\u001b[0mcols\u001b[0m\u001b[0;34m)\u001b[0m\u001b[0;34m)\u001b[0m\u001b[0;34m\u001b[0m\u001b[0;34m\u001b[0m\u001b[0m\n\u001b[0m\u001b[1;32m   1325\u001b[0m         \u001b[0;32mreturn\u001b[0m \u001b[0mDataFrame\u001b[0m\u001b[0;34m(\u001b[0m\u001b[0mjdf\u001b[0m\u001b[0;34m,\u001b[0m \u001b[0mself\u001b[0m\u001b[0;34m.\u001b[0m\u001b[0msql_ctx\u001b[0m\u001b[0;34m)\u001b[0m\u001b[0;34m\u001b[0m\u001b[0;34m\u001b[0m\u001b[0m\n\u001b[1;32m   1326\u001b[0m \u001b[0;34m\u001b[0m\u001b[0m\n",
      "\u001b[0;32m~/.local/lib/python3.6/site-packages/py4j/java_gateway.py\u001b[0m in \u001b[0;36m__call__\u001b[0;34m(self, *args)\u001b[0m\n\u001b[1;32m   1255\u001b[0m         \u001b[0manswer\u001b[0m \u001b[0;34m=\u001b[0m \u001b[0mself\u001b[0m\u001b[0;34m.\u001b[0m\u001b[0mgateway_client\u001b[0m\u001b[0;34m.\u001b[0m\u001b[0msend_command\u001b[0m\u001b[0;34m(\u001b[0m\u001b[0mcommand\u001b[0m\u001b[0;34m)\u001b[0m\u001b[0;34m\u001b[0m\u001b[0;34m\u001b[0m\u001b[0m\n\u001b[1;32m   1256\u001b[0m         return_value = get_return_value(\n\u001b[0;32m-> 1257\u001b[0;31m             answer, self.gateway_client, self.target_id, self.name)\n\u001b[0m\u001b[1;32m   1258\u001b[0m \u001b[0;34m\u001b[0m\u001b[0m\n\u001b[1;32m   1259\u001b[0m         \u001b[0;32mfor\u001b[0m \u001b[0mtemp_arg\u001b[0m \u001b[0;32min\u001b[0m \u001b[0mtemp_args\u001b[0m\u001b[0;34m:\u001b[0m\u001b[0;34m\u001b[0m\u001b[0;34m\u001b[0m\u001b[0m\n",
      "\u001b[0;32m~/.local/lib/python3.6/site-packages/pyspark/sql/utils.py\u001b[0m in \u001b[0;36mdeco\u001b[0;34m(*a, **kw)\u001b[0m\n\u001b[1;32m     67\u001b[0m                                              e.java_exception.getStackTrace()))\n\u001b[1;32m     68\u001b[0m             \u001b[0;32mif\u001b[0m \u001b[0ms\u001b[0m\u001b[0;34m.\u001b[0m\u001b[0mstartswith\u001b[0m\u001b[0;34m(\u001b[0m\u001b[0;34m'org.apache.spark.sql.AnalysisException: '\u001b[0m\u001b[0;34m)\u001b[0m\u001b[0;34m:\u001b[0m\u001b[0;34m\u001b[0m\u001b[0;34m\u001b[0m\u001b[0m\n\u001b[0;32m---> 69\u001b[0;31m                 \u001b[0;32mraise\u001b[0m \u001b[0mAnalysisException\u001b[0m\u001b[0;34m(\u001b[0m\u001b[0ms\u001b[0m\u001b[0;34m.\u001b[0m\u001b[0msplit\u001b[0m\u001b[0;34m(\u001b[0m\u001b[0;34m': '\u001b[0m\u001b[0;34m,\u001b[0m \u001b[0;36m1\u001b[0m\u001b[0;34m)\u001b[0m\u001b[0;34m[\u001b[0m\u001b[0;36m1\u001b[0m\u001b[0;34m]\u001b[0m\u001b[0;34m,\u001b[0m \u001b[0mstackTrace\u001b[0m\u001b[0;34m)\u001b[0m\u001b[0;34m\u001b[0m\u001b[0;34m\u001b[0m\u001b[0m\n\u001b[0m\u001b[1;32m     70\u001b[0m             \u001b[0;32mif\u001b[0m \u001b[0ms\u001b[0m\u001b[0;34m.\u001b[0m\u001b[0mstartswith\u001b[0m\u001b[0;34m(\u001b[0m\u001b[0;34m'org.apache.spark.sql.catalyst.analysis'\u001b[0m\u001b[0;34m)\u001b[0m\u001b[0;34m:\u001b[0m\u001b[0;34m\u001b[0m\u001b[0;34m\u001b[0m\u001b[0m\n\u001b[1;32m     71\u001b[0m                 \u001b[0;32mraise\u001b[0m \u001b[0mAnalysisException\u001b[0m\u001b[0;34m(\u001b[0m\u001b[0ms\u001b[0m\u001b[0;34m.\u001b[0m\u001b[0msplit\u001b[0m\u001b[0;34m(\u001b[0m\u001b[0;34m': '\u001b[0m\u001b[0;34m,\u001b[0m \u001b[0;36m1\u001b[0m\u001b[0;34m)\u001b[0m\u001b[0;34m[\u001b[0m\u001b[0;36m1\u001b[0m\u001b[0;34m]\u001b[0m\u001b[0;34m,\u001b[0m \u001b[0mstackTrace\u001b[0m\u001b[0;34m)\u001b[0m\u001b[0;34m\u001b[0m\u001b[0;34m\u001b[0m\u001b[0m\n",
      "\u001b[0;31mAnalysisException\u001b[0m: \"cannot resolve '`label`' given input columns: [ring-typeclassVec, stalk-color-above-ringclassVec, gill-colorclassVec, ring-typeIndex, cap-shapeIndex, stalk-color-below-ring, veil-colorIndex, stalk-color-below-ringIndex, gill-spacingclassVec, spore-print-colorclassVec, bruises, odorIndex, cap-surfaceIndex, cap-surfaceclassVec, stalk-surface-below-ring, ring-numberIndex, habitat, gill-sizeclassVec, cap-colorclassVec, gill-size, gill-attachmentclassVec, stalk-surface-below-ringclassVec, gill-colorIndex, habitatIndex, features, populationclassVec, gill-color, ring-numberclassVec, stalk-shapeclassVec, cap-surface, cap-colorIndex, stalk-color-above-ringIndex, stalk-surface-above-ringIndex, gill-spacingIndex, gill-spacing, ring-number, veil-color, stalk-surface-above-ringclassVec, population, stalk-color-below-ringclassVec, gill-sizeIndex, gill-attachmentIndex, spore-print-color, class, stalk-surface-above-ring, cap-shape, gill-attachment, stalk-shape, spore-print-colorIndex, cap-shapeclassVec, odorclassVec, cap-color, stalk-shapeIndex, stalk-color-above-ring, bruisesIndex, bruisesclassVec, populationIndex, veil-colorclassVec, odor, stalk-surface-below-ringIndex, ring-type, habitatclassVec];;\\n'Project ['label, features#4334, class#10, cap-shape#11, cap-surface#12, cap-color#13, bruises#14, odor#15, gill-attachment#16, gill-spacing#17, gill-size#18, gill-color#19, stalk-shape#20, stalk-surface-above-ring#22, stalk-surface-below-ring#23, stalk-color-above-ring#24, stalk-color-below-ring#25, veil-color#27, ring-number#28, ring-type#29, spore-print-color#30, population#31, habitat#32]\\n+- Project [class#10, cap-shape#11, cap-surface#12, cap-color#13, bruises#14, odor#15, gill-attachment#16, gill-spacing#17, gill-size#18, gill-color#19, stalk-shape#20, stalk-surface-above-ring#22, stalk-surface-below-ring#23, stalk-color-above-ring#24, stalk-color-below-ring#25, veil-color#27, ring-number#28, ring-type#29, spore-print-color#30, population#31, habitat#32, cap-shapeIndex#2614, cap-shapeclassVec#2638, cap-surfaceIndex#2662, ... 38 more fields]\\n   +- Project [class#10, cap-shape#11, cap-surface#12, cap-color#13, bruises#14, odor#15, gill-attachment#16, gill-spacing#17, gill-size#18, gill-color#19, stalk-shape#20, stalk-surface-above-ring#22, stalk-surface-below-ring#23, stalk-color-above-ring#24, stalk-color-below-ring#25, veil-color#27, ring-number#28, ring-type#29, spore-print-color#30, population#31, habitat#32, cap-shapeIndex#2614, cap-shapeclassVec#2638, cap-surfaceIndex#2662, ... 37 more fields]\\n      +- Project [class#10, cap-shape#11, cap-surface#12, cap-color#13, bruises#14, odor#15, gill-attachment#16, gill-spacing#17, gill-size#18, gill-color#19, stalk-shape#20, stalk-surface-above-ring#22, stalk-surface-below-ring#23, stalk-color-above-ring#24, stalk-color-below-ring#25, veil-color#27, ring-number#28, ring-type#29, spore-print-color#30, population#31, habitat#32, cap-shapeIndex#2614, cap-shapeclassVec#2638, cap-surfaceIndex#2662, ... 36 more fields]\\n         +- Project [class#10, cap-shape#11, cap-surface#12, cap-color#13, bruises#14, odor#15, gill-attachment#16, gill-spacing#17, gill-size#18, gill-color#19, stalk-shape#20, stalk-surface-above-ring#22, stalk-surface-below-ring#23, stalk-color-above-ring#24, stalk-color-below-ring#25, veil-color#27, ring-number#28, ring-type#29, spore-print-color#30, population#31, habitat#32, cap-shapeIndex#2614, cap-shapeclassVec#2638, cap-surfaceIndex#2662, ... 35 more fields]\\n            +- Project [class#10, cap-shape#11, cap-surface#12, cap-color#13, bruises#14, odor#15, gill-attachment#16, gill-spacing#17, gill-size#18, gill-color#19, stalk-shape#20, stalk-surface-above-ring#22, stalk-surface-below-ring#23, stalk-color-above-ring#24, stalk-color-below-ring#25, veil-color#27, ring-number#28, ring-type#29, spore-print-color#30, population#31, habitat#32, cap-shapeIndex#2614, cap-shapeclassVec#2638, cap-surfaceIndex#2662, ... 34 more fields]\\n               +- Project [class#10, cap-shape#11, cap-surface#12, cap-color#13, bruises#14, odor#15, gill-attachment#16, gill-spacing#17, gill-size#18, gill-color#19, stalk-shape#20, stalk-surface-above-ring#22, stalk-surface-below-ring#23, stalk-color-above-ring#24, stalk-color-below-ring#25, veil-color#27, ring-number#28, ring-type#29, spore-print-color#30, population#31, habitat#32, cap-shapeIndex#2614, cap-shapeclassVec#2638, cap-surfaceIndex#2662, ... 33 more fields]\\n                  +- Project [class#10, cap-shape#11, cap-surface#12, cap-color#13, bruises#14, odor#15, gill-attachment#16, gill-spacing#17, gill-size#18, gill-color#19, stalk-shape#20, stalk-surface-above-ring#22, stalk-surface-below-ring#23, stalk-color-above-ring#24, stalk-color-below-ring#25, veil-color#27, ring-number#28, ring-type#29, spore-print-color#30, population#31, habitat#32, cap-shapeIndex#2614, cap-shapeclassVec#2638, cap-surfaceIndex#2662, ... 32 more fields]\\n                     +- Project [class#10, cap-shape#11, cap-surface#12, cap-color#13, bruises#14, odor#15, gill-attachment#16, gill-spacing#17, gill-size#18, gill-color#19, stalk-shape#20, stalk-surface-above-ring#22, stalk-surface-below-ring#23, stalk-color-above-ring#24, stalk-color-below-ring#25, veil-color#27, ring-number#28, ring-type#29, spore-print-color#30, population#31, habitat#32, cap-shapeIndex#2614, cap-shapeclassVec#2638, cap-surfaceIndex#2662, ... 31 more fields]\\n                        +- Project [class#10, cap-shape#11, cap-surface#12, cap-color#13, bruises#14, odor#15, gill-attachment#16, gill-spacing#17, gill-size#18, gill-color#19, stalk-shape#20, stalk-surface-above-ring#22, stalk-surface-below-ring#23, stalk-color-above-ring#24, stalk-color-below-ring#25, veil-color#27, ring-number#28, ring-type#29, spore-print-color#30, population#31, habitat#32, cap-shapeIndex#2614, cap-shapeclassVec#2638, cap-surfaceIndex#2662, ... 30 more fields]\\n                           +- Project [class#10, cap-shape#11, cap-surface#12, cap-color#13, bruises#14, odor#15, gill-attachment#16, gill-spacing#17, gill-size#18, gill-color#19, stalk-shape#20, stalk-surface-above-ring#22, stalk-surface-below-ring#23, stalk-color-above-ring#24, stalk-color-below-ring#25, veil-color#27, ring-number#28, ring-type#29, spore-print-color#30, population#31, habitat#32, cap-shapeIndex#2614, cap-shapeclassVec#2638, cap-surfaceIndex#2662, ... 29 more fields]\\n                              +- Project [class#10, cap-shape#11, cap-surface#12, cap-color#13, bruises#14, odor#15, gill-attachment#16, gill-spacing#17, gill-size#18, gill-color#19, stalk-shape#20, stalk-surface-above-ring#22, stalk-surface-below-ring#23, stalk-color-above-ring#24, stalk-color-below-ring#25, veil-color#27, ring-number#28, ring-type#29, spore-print-color#30, population#31, habitat#32, cap-shapeIndex#2614, cap-shapeclassVec#2638, cap-surfaceIndex#2662, ... 28 more fields]\\n                                 +- Project [class#10, cap-shape#11, cap-surface#12, cap-color#13, bruises#14, odor#15, gill-attachment#16, gill-spacing#17, gill-size#18, gill-color#19, stalk-shape#20, stalk-surface-above-ring#22, stalk-surface-below-ring#23, stalk-color-above-ring#24, stalk-color-below-ring#25, veil-color#27, ring-number#28, ring-type#29, spore-print-color#30, population#31, habitat#32, cap-shapeIndex#2614, cap-shapeclassVec#2638, cap-surfaceIndex#2662, ... 27 more fields]\\n                                    +- Project [class#10, cap-shape#11, cap-surface#12, cap-color#13, bruises#14, odor#15, gill-attachment#16, gill-spacing#17, gill-size#18, gill-color#19, stalk-shape#20, stalk-surface-above-ring#22, stalk-surface-below-ring#23, stalk-color-above-ring#24, stalk-color-below-ring#25, veil-color#27, ring-number#28, ring-type#29, spore-print-color#30, population#31, habitat#32, cap-shapeIndex#2614, cap-shapeclassVec#2638, cap-surfaceIndex#2662, ... 26 more fields]\\n                                       +- Project [class#10, cap-shape#11, cap-surface#12, cap-color#13, bruises#14, odor#15, gill-attachment#16, gill-spacing#17, gill-size#18, gill-color#19, stalk-shape#20, stalk-surface-above-ring#22, stalk-surface-below-ring#23, stalk-color-above-ring#24, stalk-color-below-ring#25, veil-color#27, ring-number#28, ring-type#29, spore-print-color#30, population#31, habitat#32, cap-shapeIndex#2614, cap-shapeclassVec#2638, cap-surfaceIndex#2662, ... 25 more fields]\\n                                          +- Project [class#10, cap-shape#11, cap-surface#12, cap-color#13, bruises#14, odor#15, gill-attachment#16, gill-spacing#17, gill-size#18, gill-color#19, stalk-shape#20, stalk-surface-above-ring#22, stalk-surface-below-ring#23, stalk-color-above-ring#24, stalk-color-below-ring#25, veil-color#27, ring-number#28, ring-type#29, spore-print-color#30, population#31, habitat#32, cap-shapeIndex#2614, cap-shapeclassVec#2638, cap-surfaceIndex#2662, ... 24 more fields]\\n                                             +- Project [class#10, cap-shape#11, cap-surface#12, cap-color#13, bruises#14, odor#15, gill-attachment#16, gill-spacing#17, gill-size#18, gill-color#19, stalk-shape#20, stalk-surface-above-ring#22, stalk-surface-below-ring#23, stalk-color-above-ring#24, stalk-color-below-ring#25, veil-color#27, ring-number#28, ring-type#29, spore-print-color#30, population#31, habitat#32, cap-shapeIndex#2614, cap-shapeclassVec#2638, cap-surfaceIndex#2662, ... 23 more fields]\\n                                                +- Project [class#10, cap-shape#11, cap-surface#12, cap-color#13, bruises#14, odor#15, gill-attachment#16, gill-spacing#17, gill-size#18, gill-color#19, stalk-shape#20, stalk-surface-above-ring#22, stalk-surface-below-ring#23, stalk-color-above-ring#24, stalk-color-below-ring#25, veil-color#27, ring-number#28, ring-type#29, spore-print-color#30, population#31, habitat#32, cap-shapeIndex#2614, cap-shapeclassVec#2638, cap-surfaceIndex#2662, ... 22 more fields]\\n                                                   +- Project [class#10, cap-shape#11, cap-surface#12, cap-color#13, bruises#14, odor#15, gill-attachment#16, gill-spacing#17, gill-size#18, gill-color#19, stalk-shape#20, stalk-surface-above-ring#22, stalk-surface-below-ring#23, stalk-color-above-ring#24, stalk-color-below-ring#25, veil-color#27, ring-number#28, ring-type#29, spore-print-color#30, population#31, habitat#32, cap-shapeIndex#2614, cap-shapeclassVec#2638, cap-surfaceIndex#2662, ... 21 more fields]\\n                                                      +- Project [class#10, cap-shape#11, cap-surface#12, cap-color#13, bruises#14, odor#15, gill-attachment#16, gill-spacing#17, gill-size#18, gill-color#19, stalk-shape#20, stalk-surface-above-ring#22, stalk-surface-below-ring#23, stalk-color-above-ring#24, stalk-color-below-ring#25, veil-color#27, ring-number#28, ring-type#29, spore-print-color#30, population#31, habitat#32, cap-shapeIndex#2614, cap-shapeclassVec#2638, cap-surfaceIndex#2662, ... 20 more fields]\\n                                                         +- Project [class#10, cap-shape#11, cap-surface#12, cap-color#13, bruises#14, odor#15, gill-attachment#16, gill-spacing#17, gill-size#18, gill-color#19, stalk-shape#20, stalk-surface-above-ring#22, stalk-surface-below-ring#23, stalk-color-above-ring#24, stalk-color-below-ring#25, veil-color#27, ring-number#28, ring-type#29, spore-print-color#30, population#31, habitat#32, cap-shapeIndex#2614, cap-shapeclassVec#2638, cap-surfaceIndex#2662, ... 19 more fields]\\n                                                            +- Project [class#10, cap-shape#11, cap-surface#12, cap-color#13, bruises#14, odor#15, gill-attachment#16, gill-spacing#17, gill-size#18, gill-color#19, stalk-shape#20, stalk-surface-above-ring#22, stalk-surface-below-ring#23, stalk-color-above-ring#24, stalk-color-below-ring#25, veil-color#27, ring-number#28, ring-type#29, spore-print-color#30, population#31, habitat#32, cap-shapeIndex#2614, cap-shapeclassVec#2638, cap-surfaceIndex#2662, ... 18 more fields]\\n                                                               +- Project [class#10, cap-shape#11, cap-surface#12, cap-color#13, bruises#14, odor#15, gill-attachment#16, gill-spacing#17, gill-size#18, gill-color#19, stalk-shape#20, stalk-surface-above-ring#22, stalk-surface-below-ring#23, stalk-color-above-ring#24, stalk-color-below-ring#25, veil-color#27, ring-number#28, ring-type#29, spore-print-color#30, population#31, habitat#32, cap-shapeIndex#2614, cap-shapeclassVec#2638, cap-surfaceIndex#2662, ... 17 more fields]\\n                                                                  +- Project [class#10, cap-shape#11, cap-surface#12, cap-color#13, bruises#14, odor#15, gill-attachment#16, gill-spacing#17, gill-size#18, gill-color#19, stalk-shape#20, stalk-surface-above-ring#22, stalk-surface-below-ring#23, stalk-color-above-ring#24, stalk-color-below-ring#25, veil-color#27, ring-number#28, ring-type#29, spore-print-color#30, population#31, habitat#32, cap-shapeIndex#2614, cap-shapeclassVec#2638, cap-surfaceIndex#2662, ... 16 more fields]\\n                                                                     +- Project [class#10, cap-shape#11, cap-surface#12, cap-color#13, bruises#14, odor#15, gill-attachment#16, gill-spacing#17, gill-size#18, gill-color#19, stalk-shape#20, stalk-surface-above-ring#22, stalk-surface-below-ring#23, stalk-color-above-ring#24, stalk-color-below-ring#25, veil-color#27, ring-number#28, ring-type#29, spore-print-color#30, population#31, habitat#32, cap-shapeIndex#2614, cap-shapeclassVec#2638, cap-surfaceIndex#2662, ... 15 more fields]\\n                                                                        +- Project [class#10, cap-shape#11, cap-surface#12, cap-color#13, bruises#14, odor#15, gill-attachment#16, gill-spacing#17, gill-size#18, gill-color#19, stalk-shape#20, stalk-surface-above-ring#22, stalk-surface-below-ring#23, stalk-color-above-ring#24, stalk-color-below-ring#25, veil-color#27, ring-number#28, ring-type#29, spore-print-color#30, population#31, habitat#32, cap-shapeIndex#2614, cap-shapeclassVec#2638, cap-surfaceIndex#2662, ... 14 more fields]\\n                                                                           +- Project [class#10, cap-shape#11, cap-surface#12, cap-color#13, bruises#14, odor#15, gill-attachment#16, gill-spacing#17, gill-size#18, gill-color#19, stalk-shape#20, stalk-surface-above-ring#22, stalk-surface-below-ring#23, stalk-color-above-ring#24, stalk-color-below-ring#25, veil-color#27, ring-number#28, ring-type#29, spore-print-color#30, population#31, habitat#32, cap-shapeIndex#2614, cap-shapeclassVec#2638, cap-surfaceIndex#2662, ... 13 more fields]\\n                                                                              +- Project [class#10, cap-shape#11, cap-surface#12, cap-color#13, bruises#14, odor#15, gill-attachment#16, gill-spacing#17, gill-size#18, gill-color#19, stalk-shape#20, stalk-surface-above-ring#22, stalk-surface-below-ring#23, stalk-color-above-ring#24, stalk-color-below-ring#25, veil-color#27, ring-number#28, ring-type#29, spore-print-color#30, population#31, habitat#32, cap-shapeIndex#2614, cap-shapeclassVec#2638, cap-surfaceIndex#2662, ... 12 more fields]\\n                                                                                 +- Project [class#10, cap-shape#11, cap-surface#12, cap-color#13, bruises#14, odor#15, gill-attachment#16, gill-spacing#17, gill-size#18, gill-color#19, stalk-shape#20, stalk-surface-above-ring#22, stalk-surface-below-ring#23, stalk-color-above-ring#24, stalk-color-below-ring#25, veil-color#27, ring-number#28, ring-type#29, spore-print-color#30, population#31, habitat#32, cap-shapeIndex#2614, cap-shapeclassVec#2638, cap-surfaceIndex#2662, ... 11 more fields]\\n                                                                                    +- Project [class#10, cap-shape#11, cap-surface#12, cap-color#13, bruises#14, odor#15, gill-attachment#16, gill-spacing#17, gill-size#18, gill-color#19, stalk-shape#20, stalk-surface-above-ring#22, stalk-surface-below-ring#23, stalk-color-above-ring#24, stalk-color-below-ring#25, veil-color#27, ring-number#28, ring-type#29, spore-print-color#30, population#31, habitat#32, cap-shapeIndex#2614, cap-shapeclassVec#2638, cap-surfaceIndex#2662, ... 10 more fields]\\n                                                                                       +- Project [class#10, cap-shape#11, cap-surface#12, cap-color#13, bruises#14, odor#15, gill-attachment#16, gill-spacing#17, gill-size#18, gill-color#19, stalk-shape#20, stalk-surface-above-ring#22, stalk-surface-below-ring#23, stalk-color-above-ring#24, stalk-color-below-ring#25, veil-color#27, ring-number#28, ring-type#29, spore-print-color#30, population#31, habitat#32, cap-shapeIndex#2614, cap-shapeclassVec#2638, cap-surfaceIndex#2662, ... 9 more fields]\\n                                                                                          +- Project [class#10, cap-shape#11, cap-surface#12, cap-color#13, bruises#14, odor#15, gill-attachment#16, gill-spacing#17, gill-size#18, gill-color#19, stalk-shape#20, stalk-surface-above-ring#22, stalk-surface-below-ring#23, stalk-color-above-ring#24, stalk-color-below-ring#25, veil-color#27, ring-number#28, ring-type#29, spore-print-color#30, population#31, habitat#32, cap-shapeIndex#2614, cap-shapeclassVec#2638, cap-surfaceIndex#2662, ... 8 more fields]\\n                                                                                             +- Project [class#10, cap-shape#11, cap-surface#12, cap-color#13, bruises#14, odor#15, gill-attachment#16, gill-spacing#17, gill-size#18, gill-color#19, stalk-shape#20, stalk-surface-above-ring#22, stalk-surface-below-ring#23, stalk-color-above-ring#24, stalk-color-below-ring#25, veil-color#27, ring-number#28, ring-type#29, spore-print-color#30, population#31, habitat#32, cap-shapeIndex#2614, cap-shapeclassVec#2638, cap-surfaceIndex#2662, ... 7 more fields]\\n                                                                                                +- Project [class#10, cap-shape#11, cap-surface#12, cap-color#13, bruises#14, odor#15, gill-attachment#16, gill-spacing#17, gill-size#18, gill-color#19, stalk-shape#20, stalk-surface-above-ring#22, stalk-surface-below-ring#23, stalk-color-above-ring#24, stalk-color-below-ring#25, veil-color#27, ring-number#28, ring-type#29, spore-print-color#30, population#31, habitat#32, cap-shapeIndex#2614, cap-shapeclassVec#2638, cap-surfaceIndex#2662, ... 6 more fields]\\n                                                                                                   +- Project [class#10, cap-shape#11, cap-surface#12, cap-color#13, bruises#14, odor#15, gill-attachment#16, gill-spacing#17, gill-size#18, gill-color#19, stalk-shape#20, stalk-surface-above-ring#22, stalk-surface-below-ring#23, stalk-color-above-ring#24, stalk-color-below-ring#25, veil-color#27, ring-number#28, ring-type#29, spore-print-color#30, population#31, habitat#32, cap-shapeIndex#2614, cap-shapeclassVec#2638, cap-surfaceIndex#2662, ... 5 more fields]\\n                                                                                                      +- Project [class#10, cap-shape#11, cap-surface#12, cap-color#13, bruises#14, odor#15, gill-attachment#16, gill-spacing#17, gill-size#18, gill-color#19, stalk-shape#20, stalk-surface-above-ring#22, stalk-surface-below-ring#23, stalk-color-above-ring#24, stalk-color-below-ring#25, veil-color#27, ring-number#28, ring-type#29, spore-print-color#30, population#31, habitat#32, cap-shapeIndex#2614, cap-shapeclassVec#2638, cap-surfaceIndex#2662, ... 4 more fields]\\n                                                                                                         +- Project [class#10, cap-shape#11, cap-surface#12, cap-color#13, bruises#14, odor#15, gill-attachment#16, gill-spacing#17, gill-size#18, gill-color#19, stalk-shape#20, stalk-surface-above-ring#22, stalk-surface-below-ring#23, stalk-color-above-ring#24, stalk-color-below-ring#25, veil-color#27, ring-number#28, ring-type#29, spore-print-color#30, population#31, habitat#32, cap-shapeIndex#2614, cap-shapeclassVec#2638, cap-surfaceIndex#2662, ... 3 more fields]\\n                                                                                                            +- Project [class#10, cap-shape#11, cap-surface#12, cap-color#13, bruises#14, odor#15, gill-attachment#16, gill-spacing#17, gill-size#18, gill-color#19, stalk-shape#20, stalk-surface-above-ring#22, stalk-surface-below-ring#23, stalk-color-above-ring#24, stalk-color-below-ring#25, veil-color#27, ring-number#28, ring-type#29, spore-print-color#30, population#31, habitat#32, cap-shapeIndex#2614, cap-shapeclassVec#2638, cap-surfaceIndex#2662, ... 2 more fields]\\n                                                                                                               +- Project [class#10, cap-shape#11, cap-surface#12, cap-color#13, bruises#14, odor#15, gill-attachment#16, gill-spacing#17, gill-size#18, gill-color#19, stalk-shape#20, stalk-surface-above-ring#22, stalk-surface-below-ring#23, stalk-color-above-ring#24, stalk-color-below-ring#25, veil-color#27, ring-number#28, ring-type#29, spore-print-color#30, population#31, habitat#32, cap-shapeIndex#2614, cap-shapeclassVec#2638, cap-surfaceIndex#2662, if ((isnull(cast(cap-surfaceIndex#2662 as double)) || isnull(0))) null else UDF(cast(cap-surfaceIndex#2662 as double), 0) AS cap-surfaceclassVec#2688]\\n                                                                                                                  +- Project [class#10, cap-shape#11, cap-surface#12, cap-color#13, bruises#14, odor#15, gill-attachment#16, gill-spacing#17, gill-size#18, gill-color#19, stalk-shape#20, stalk-surface-above-ring#22, stalk-surface-below-ring#23, stalk-color-above-ring#24, stalk-color-below-ring#25, veil-color#27, ring-number#28, ring-type#29, spore-print-color#30, population#31, habitat#32, cap-shapeIndex#2614, cap-shapeclassVec#2638, UDF(cast(cap-surface#12 as string)) AS cap-surfaceIndex#2662]\\n                                                                                                                     +- Project [class#10, cap-shape#11, cap-surface#12, cap-color#13, bruises#14, odor#15, gill-attachment#16, gill-spacing#17, gill-size#18, gill-color#19, stalk-shape#20, stalk-surface-above-ring#22, stalk-surface-below-ring#23, stalk-color-above-ring#24, stalk-color-below-ring#25, veil-color#27, ring-number#28, ring-type#29, spore-print-color#30, population#31, habitat#32, cap-shapeIndex#2614, if ((isnull(cast(cap-shapeIndex#2614 as double)) || isnull(0))) null else UDF(cast(cap-shapeIndex#2614 as double), 0) AS cap-shapeclassVec#2638]\\n                                                                                                                        +- Project [class#10, cap-shape#11, cap-surface#12, cap-color#13, bruises#14, odor#15, gill-attachment#16, gill-spacing#17, gill-size#18, gill-color#19, stalk-shape#20, stalk-surface-above-ring#22, stalk-surface-below-ring#23, stalk-color-above-ring#24, stalk-color-below-ring#25, veil-color#27, ring-number#28, ring-type#29, spore-print-color#30, population#31, habitat#32, UDF(cast(cap-shape#11 as string)) AS cap-shapeIndex#2614]\\n                                                                                                                           +- Project [class#10, cap-shape#11, cap-surface#12, cap-color#13, bruises#14, odor#15, gill-attachment#16, gill-spacing#17, gill-size#18, gill-color#19, stalk-shape#20, stalk-surface-above-ring#22, stalk-surface-below-ring#23, stalk-color-above-ring#24, stalk-color-below-ring#25, veil-color#27, ring-number#28, ring-type#29, spore-print-color#30, population#31, habitat#32]\\n                                                                                                                              +- Relation[class#10,cap-shape#11,cap-surface#12,cap-color#13,bruises#14,odor#15,gill-attachment#16,gill-spacing#17,gill-size#18,gill-color#19,stalk-shape#20,stalk-root#21,stalk-surface-above-ring#22,stalk-surface-below-ring#23,stalk-color-above-ring#24,stalk-color-below-ring#25,veil-type#26,veil-color#27,ring-number#28,ring-type#29,spore-print-color#30,population#31,habitat#32] csv\\n\""
     ]
    }
   ],
   "source": [
    "from pyspark.ml import Pipeline\n",
    "pipeline = Pipeline(stages = stages)\n",
    "pipelineModel = pipeline.fit(train)\n",
    "train = pipelineModel.transform(train)\n",
    "selectedCols = ['label','features'] + cols\n",
    "train = train.select(selectedCols)\n",
    "train.printSchema()"
   ]
  },
  {
   "cell_type": "code",
   "execution_count": null,
   "metadata": {},
   "outputs": [],
   "source": []
  },
  {
   "cell_type": "code",
   "execution_count": null,
   "metadata": {},
   "outputs": [],
   "source": []
  },
  {
   "cell_type": "code",
   "execution_count": null,
   "metadata": {},
   "outputs": [],
   "source": []
  },
  {
   "cell_type": "code",
   "execution_count": null,
   "metadata": {},
   "outputs": [],
   "source": [
    "from pyspark.ml.classification import DecisionTreeClassifier\n",
    "dtc = DecisionTreeClassifier(labelCol='class',featuresCol='features')"
   ]
  },
  {
   "cell_type": "code",
   "execution_count": null,
   "metadata": {},
   "outputs": [],
   "source": []
  },
  {
   "cell_type": "code",
   "execution_count": null,
   "metadata": {},
   "outputs": [],
   "source": [
    "# Creating the Pipline, I will remove 'veil-type' in this stage as it only has one character\n",
    "\n",
    "from pyspark.ml import Pipeline\n",
    "pipeline = Pipeline(stages=[cap_shape_indexer, cap_surface_indexer, cap_color_indexer, bruises_indexer, \n",
    "                            odor_indexer, gill_attachment_indexer, gill_spacing_indexer, gill_size_indexer,\n",
    "                            gill_color_indexer, stalk_shape_indexer, stalk_surface_above_ring_indexer,\n",
    "                            stalk_surface_below_ring_indexer, stalk_color_above_ring_indexer,stalk_color_below_ring_indexer,\n",
    "                            veil_color_indexer, ring_number_indexer, ring_type_indexer, \n",
    "                            spore_print_color_indexer, population_indexer, habitat_indexer,\n",
    "                            cap_shape_encoder, cap_surface_encoder, cap_color_encoder,bruises_encoder, \n",
    "                            odor_encoder, gill_attachment_encoder, gill_spacing_encoder, gill_size_encoder, \n",
    "                            gill_color_encoder, stalk_shape_encoder, stalk_surface_above_ring_encoder,\n",
    "                            stalk_surface_below_ring_encoder, stalk_color_above_ring_encoder, stalk_color_below_ring_encoder,\n",
    "                            veil_color_encoder, ring_number_encoder, ring_type_encoder, \n",
    "                            spore_print_color_encoder, population_encoder, habitat_encoder, assembler, dtc])"
   ]
  },
  {
   "cell_type": "code",
   "execution_count": null,
   "metadata": {},
   "outputs": [],
   "source": [
    "# Splitnig the data train/test (73/23) using random split\n",
    "train_data,test_data = train.randomSplit([0.77,0.23])"
   ]
  },
  {
   "cell_type": "code",
   "execution_count": null,
   "metadata": {},
   "outputs": [],
   "source": []
  },
  {
   "cell_type": "code",
   "execution_count": null,
   "metadata": {},
   "outputs": [],
   "source": [
    "# Fitting the model by using the pipline and train_data\n",
    "model = pipeline.fit(train_data)"
   ]
  },
  {
   "cell_type": "code",
   "execution_count": null,
   "metadata": {},
   "outputs": [],
   "source": [
    "pd.DataFrame(test_data.take(5), columns=test_data.columns).transpose()"
   ]
  },
  {
   "cell_type": "code",
   "execution_count": null,
   "metadata": {},
   "outputs": [],
   "source": [
    "pd.DataFrame(train_d.take(5), columns=train_d.columns).transpose()"
   ]
  },
  {
   "cell_type": "code",
   "execution_count": null,
   "metadata": {},
   "outputs": [],
   "source": []
  }
 ],
 "metadata": {
  "kernelspec": {
   "display_name": "Python 3",
   "language": "python",
   "name": "python3"
  },
  "language_info": {
   "codemirror_mode": {
    "name": "ipython",
    "version": 3
   },
   "file_extension": ".py",
   "mimetype": "text/x-python",
   "name": "python",
   "nbconvert_exporter": "python",
   "pygments_lexer": "ipython3",
   "version": "3.6.9"
  }
 },
 "nbformat": 4,
 "nbformat_minor": 4
}
