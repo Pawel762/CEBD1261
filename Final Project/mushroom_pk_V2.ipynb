{
 "cells": [
  {
   "cell_type": "markdown",
   "metadata": {},
   "source": [
    "# CEBD 1261 Winter 2020\n",
    "## Final Project: Mushroom classification (Poisonous (p) vs. Edible (e))\n",
    "### Data source: https://www.kaggle.com/uciml/mushroom-classification \n",
    "### By: Pawel Kaluski\n"
   ]
  },
  {
   "cell_type": "markdown",
   "metadata": {},
   "source": [
    "Searching for data to use for my project I found this one. It is a classification problem. \n",
    "The challenge with this dataset was that it only has characters and no numbers. It required a lot of encoding. The second issue was to make the model fit with the pipeline. \n",
    "\n",
    "I ended adapting the code posted on DataBriks site:\n",
    "\n",
    "https://docs.databricks.com/applications/machine-learning/mllib/binary-classification-mllib-pipelines.html\n",
    "\n",
    "Doing this project, I learned how to apply machine learning using spark.\n",
    "\n",
    "To further improve accuracy, we could consider predicting the missing values from \"Stalk-Root\". "
   ]
  },
  {
   "cell_type": "code",
   "execution_count": 1,
   "metadata": {},
   "outputs": [],
   "source": [
    "from pyspark.sql import SparkSession\n",
    "from pyspark import SparkContext\n",
    "import pyspark.sql as sparksql\n",
    "spark = SparkSession.builder.appName('mushrooms').getOrCreate()\n",
    "train = spark.read.csv('mushrooms.csv', inferSchema=True,header=True)\n",
    "import pandas as pd"
   ]
  },
  {
   "cell_type": "markdown",
   "metadata": {},
   "source": [
    "### Used Python to make sure there were no nan in any columns"
   ]
  },
  {
   "cell_type": "code",
   "execution_count": 2,
   "metadata": {},
   "outputs": [],
   "source": [
    "# testing data for nan\n",
    "df = pd.read_csv('mushrooms.csv')"
   ]
  },
  {
   "cell_type": "code",
   "execution_count": 3,
   "metadata": {},
   "outputs": [
    {
     "data": {
      "text/html": [
       "<div>\n",
       "<style scoped>\n",
       "    .dataframe tbody tr th:only-of-type {\n",
       "        vertical-align: middle;\n",
       "    }\n",
       "\n",
       "    .dataframe tbody tr th {\n",
       "        vertical-align: top;\n",
       "    }\n",
       "\n",
       "    .dataframe thead th {\n",
       "        text-align: right;\n",
       "    }\n",
       "</style>\n",
       "<table border=\"1\" class=\"dataframe\">\n",
       "  <thead>\n",
       "    <tr style=\"text-align: right;\">\n",
       "      <th></th>\n",
       "      <th>col</th>\n",
       "      <th>nan_cnt</th>\n",
       "    </tr>\n",
       "  </thead>\n",
       "  <tbody>\n",
       "    <tr>\n",
       "      <th>0</th>\n",
       "      <td>class</td>\n",
       "      <td>0</td>\n",
       "    </tr>\n",
       "    <tr>\n",
       "      <th>12</th>\n",
       "      <td>stalk-surface-above-ring</td>\n",
       "      <td>0</td>\n",
       "    </tr>\n",
       "    <tr>\n",
       "      <th>21</th>\n",
       "      <td>population</td>\n",
       "      <td>0</td>\n",
       "    </tr>\n",
       "    <tr>\n",
       "      <th>20</th>\n",
       "      <td>spore-print-color</td>\n",
       "      <td>0</td>\n",
       "    </tr>\n",
       "    <tr>\n",
       "      <th>19</th>\n",
       "      <td>ring-type</td>\n",
       "      <td>0</td>\n",
       "    </tr>\n",
       "    <tr>\n",
       "      <th>18</th>\n",
       "      <td>ring-number</td>\n",
       "      <td>0</td>\n",
       "    </tr>\n",
       "    <tr>\n",
       "      <th>17</th>\n",
       "      <td>veil-color</td>\n",
       "      <td>0</td>\n",
       "    </tr>\n",
       "    <tr>\n",
       "      <th>16</th>\n",
       "      <td>veil-type</td>\n",
       "      <td>0</td>\n",
       "    </tr>\n",
       "    <tr>\n",
       "      <th>15</th>\n",
       "      <td>stalk-color-below-ring</td>\n",
       "      <td>0</td>\n",
       "    </tr>\n",
       "    <tr>\n",
       "      <th>14</th>\n",
       "      <td>stalk-color-above-ring</td>\n",
       "      <td>0</td>\n",
       "    </tr>\n",
       "    <tr>\n",
       "      <th>13</th>\n",
       "      <td>stalk-surface-below-ring</td>\n",
       "      <td>0</td>\n",
       "    </tr>\n",
       "    <tr>\n",
       "      <th>11</th>\n",
       "      <td>stalk-root</td>\n",
       "      <td>0</td>\n",
       "    </tr>\n",
       "    <tr>\n",
       "      <th>1</th>\n",
       "      <td>cap-shape</td>\n",
       "      <td>0</td>\n",
       "    </tr>\n",
       "    <tr>\n",
       "      <th>10</th>\n",
       "      <td>stalk-shape</td>\n",
       "      <td>0</td>\n",
       "    </tr>\n",
       "    <tr>\n",
       "      <th>9</th>\n",
       "      <td>gill-color</td>\n",
       "      <td>0</td>\n",
       "    </tr>\n",
       "    <tr>\n",
       "      <th>8</th>\n",
       "      <td>gill-size</td>\n",
       "      <td>0</td>\n",
       "    </tr>\n",
       "    <tr>\n",
       "      <th>7</th>\n",
       "      <td>gill-spacing</td>\n",
       "      <td>0</td>\n",
       "    </tr>\n",
       "    <tr>\n",
       "      <th>6</th>\n",
       "      <td>gill-attachment</td>\n",
       "      <td>0</td>\n",
       "    </tr>\n",
       "    <tr>\n",
       "      <th>5</th>\n",
       "      <td>odor</td>\n",
       "      <td>0</td>\n",
       "    </tr>\n",
       "    <tr>\n",
       "      <th>4</th>\n",
       "      <td>bruises</td>\n",
       "      <td>0</td>\n",
       "    </tr>\n",
       "    <tr>\n",
       "      <th>3</th>\n",
       "      <td>cap-color</td>\n",
       "      <td>0</td>\n",
       "    </tr>\n",
       "    <tr>\n",
       "      <th>2</th>\n",
       "      <td>cap-surface</td>\n",
       "      <td>0</td>\n",
       "    </tr>\n",
       "    <tr>\n",
       "      <th>22</th>\n",
       "      <td>habitat</td>\n",
       "      <td>0</td>\n",
       "    </tr>\n",
       "  </tbody>\n",
       "</table>\n",
       "</div>"
      ],
      "text/plain": [
       "                         col  nan_cnt\n",
       "0                      class        0\n",
       "12  stalk-surface-above-ring        0\n",
       "21                population        0\n",
       "20         spore-print-color        0\n",
       "19                 ring-type        0\n",
       "18               ring-number        0\n",
       "17                veil-color        0\n",
       "16                 veil-type        0\n",
       "15    stalk-color-below-ring        0\n",
       "14    stalk-color-above-ring        0\n",
       "13  stalk-surface-below-ring        0\n",
       "11                stalk-root        0\n",
       "1                  cap-shape        0\n",
       "10               stalk-shape        0\n",
       "9                 gill-color        0\n",
       "8                  gill-size        0\n",
       "7               gill-spacing        0\n",
       "6            gill-attachment        0\n",
       "5                       odor        0\n",
       "4                    bruises        0\n",
       "3                  cap-color        0\n",
       "2                cap-surface        0\n",
       "22                   habitat        0"
      ]
     },
     "execution_count": 3,
     "metadata": {},
     "output_type": "execute_result"
    }
   ],
   "source": [
    "# get info of missing data for each col by creading data frame that contains col's name and its NaN value counts\n",
    "nan_info = pd.DataFrame(df.isnull().sum()).reset_index()\n",
    "nan_info.columns = ['col','nan_cnt']\n",
    "nan_info.sort_values(by = 'nan_cnt',ascending=False,inplace=True)\n",
    "nan_info"
   ]
  },
  {
   "cell_type": "markdown",
   "metadata": {},
   "source": [
    "### We see there are no nan values in any columns"
   ]
  },
  {
   "cell_type": "code",
   "execution_count": 4,
   "metadata": {},
   "outputs": [
    {
     "name": "stdout",
     "output_type": "stream",
     "text": [
      "root\n",
      " |-- class: string (nullable = true)\n",
      " |-- cap-shape: string (nullable = true)\n",
      " |-- cap-surface: string (nullable = true)\n",
      " |-- cap-color: string (nullable = true)\n",
      " |-- bruises: string (nullable = true)\n",
      " |-- odor: string (nullable = true)\n",
      " |-- gill-attachment: string (nullable = true)\n",
      " |-- gill-spacing: string (nullable = true)\n",
      " |-- gill-size: string (nullable = true)\n",
      " |-- gill-color: string (nullable = true)\n",
      " |-- stalk-shape: string (nullable = true)\n",
      " |-- stalk-root: string (nullable = true)\n",
      " |-- stalk-surface-above-ring: string (nullable = true)\n",
      " |-- stalk-surface-below-ring: string (nullable = true)\n",
      " |-- stalk-color-above-ring: string (nullable = true)\n",
      " |-- stalk-color-below-ring: string (nullable = true)\n",
      " |-- veil-type: string (nullable = true)\n",
      " |-- veil-color: string (nullable = true)\n",
      " |-- ring-number: string (nullable = true)\n",
      " |-- ring-type: string (nullable = true)\n",
      " |-- spore-print-color: string (nullable = true)\n",
      " |-- population: string (nullable = true)\n",
      " |-- habitat: string (nullable = true)\n",
      "\n"
     ]
    }
   ],
   "source": [
    "train.printSchema()"
   ]
  },
  {
   "cell_type": "markdown",
   "metadata": {},
   "source": [
    "## Next we will look at te different features to determine what's in them"
   ]
  },
  {
   "cell_type": "code",
   "execution_count": 5,
   "metadata": {},
   "outputs": [
    {
     "name": "stdout",
     "output_type": "stream",
     "text": [
      "+-----+-----+\n",
      "|class|count|\n",
      "+-----+-----+\n",
      "|    e| 4208|\n",
      "|    p| 3916|\n",
      "+-----+-----+\n",
      "\n"
     ]
    }
   ],
   "source": [
    "# Our Target\n",
    "train.groupBy('class').count().show()"
   ]
  },
  {
   "cell_type": "code",
   "execution_count": 6,
   "metadata": {},
   "outputs": [
    {
     "name": "stdout",
     "output_type": "stream",
     "text": [
      "+---------+-----+\n",
      "|cap-shape|count|\n",
      "+---------+-----+\n",
      "|        x| 3656|\n",
      "|        f| 3152|\n",
      "|        k|  828|\n",
      "|        c|    4|\n",
      "|        b|  452|\n",
      "|        s|   32|\n",
      "+---------+-----+\n",
      "\n"
     ]
    }
   ],
   "source": [
    "train.groupBy('cap-shape').count().show()"
   ]
  },
  {
   "cell_type": "code",
   "execution_count": 7,
   "metadata": {},
   "outputs": [
    {
     "name": "stdout",
     "output_type": "stream",
     "text": [
      "+-----------+-----+\n",
      "|cap-surface|count|\n",
      "+-----------+-----+\n",
      "|          g|    4|\n",
      "|          f| 2320|\n",
      "|          y| 3244|\n",
      "|          s| 2556|\n",
      "+-----------+-----+\n",
      "\n"
     ]
    }
   ],
   "source": [
    "train.groupBy('cap-surface').count().show()"
   ]
  },
  {
   "cell_type": "code",
   "execution_count": 8,
   "metadata": {},
   "outputs": [
    {
     "name": "stdout",
     "output_type": "stream",
     "text": [
      "+---------+-----+\n",
      "|cap-color|count|\n",
      "+---------+-----+\n",
      "|        g| 1840|\n",
      "|        n| 2284|\n",
      "|        e| 1500|\n",
      "|        p|  144|\n",
      "|        y| 1072|\n",
      "|        w| 1040|\n",
      "|        c|   44|\n",
      "|        u|   16|\n",
      "|        b|  168|\n",
      "|        r|   16|\n",
      "+---------+-----+\n",
      "\n"
     ]
    }
   ],
   "source": [
    "train.groupBy('cap-color').count().show()"
   ]
  },
  {
   "cell_type": "code",
   "execution_count": 9,
   "metadata": {},
   "outputs": [
    {
     "name": "stdout",
     "output_type": "stream",
     "text": [
      "+-------+-----+\n",
      "|bruises|count|\n",
      "+-------+-----+\n",
      "|      f| 4748|\n",
      "|      t| 3376|\n",
      "+-------+-----+\n",
      "\n"
     ]
    }
   ],
   "source": [
    "train.groupBy('bruises').count().show()"
   ]
  },
  {
   "cell_type": "code",
   "execution_count": 10,
   "metadata": {},
   "outputs": [
    {
     "name": "stdout",
     "output_type": "stream",
     "text": [
      "+----+-----+\n",
      "|odor|count|\n",
      "+----+-----+\n",
      "|   l|  400|\n",
      "|   m|   36|\n",
      "|   f| 2160|\n",
      "|   n| 3528|\n",
      "|   p|  256|\n",
      "|   y|  576|\n",
      "|   c|  192|\n",
      "|   a|  400|\n",
      "|   s|  576|\n",
      "+----+-----+\n",
      "\n"
     ]
    }
   ],
   "source": [
    "train.groupBy('odor').count().show()"
   ]
  },
  {
   "cell_type": "code",
   "execution_count": 11,
   "metadata": {},
   "outputs": [
    {
     "name": "stdout",
     "output_type": "stream",
     "text": [
      "+---------------+-----+\n",
      "|gill-attachment|count|\n",
      "+---------------+-----+\n",
      "|              f| 7914|\n",
      "|              a|  210|\n",
      "+---------------+-----+\n",
      "\n"
     ]
    }
   ],
   "source": [
    "train.groupBy('gill-attachment').count().show()"
   ]
  },
  {
   "cell_type": "code",
   "execution_count": 12,
   "metadata": {},
   "outputs": [
    {
     "name": "stdout",
     "output_type": "stream",
     "text": [
      "+------------+-----+\n",
      "|gill-spacing|count|\n",
      "+------------+-----+\n",
      "|           w| 1312|\n",
      "|           c| 6812|\n",
      "+------------+-----+\n",
      "\n"
     ]
    }
   ],
   "source": [
    "train.groupBy('gill-spacing').count().show()"
   ]
  },
  {
   "cell_type": "code",
   "execution_count": 13,
   "metadata": {},
   "outputs": [
    {
     "name": "stdout",
     "output_type": "stream",
     "text": [
      "+---------+-----+\n",
      "|gill-size|count|\n",
      "+---------+-----+\n",
      "|        n| 2512|\n",
      "|        b| 5612|\n",
      "+---------+-----+\n",
      "\n"
     ]
    }
   ],
   "source": [
    "train.groupBy('gill-size').count().show()"
   ]
  },
  {
   "cell_type": "code",
   "execution_count": 14,
   "metadata": {},
   "outputs": [
    {
     "name": "stdout",
     "output_type": "stream",
     "text": [
      "+----------+-----+\n",
      "|gill-color|count|\n",
      "+----------+-----+\n",
      "|         g|  752|\n",
      "|         n| 1048|\n",
      "|         k|  408|\n",
      "|         e|   96|\n",
      "|         o|   64|\n",
      "|         h|  732|\n",
      "|         p| 1492|\n",
      "|         w| 1202|\n",
      "|         y|   86|\n",
      "|         u|  492|\n",
      "|         b| 1728|\n",
      "|         r|   24|\n",
      "+----------+-----+\n",
      "\n"
     ]
    }
   ],
   "source": [
    "train.groupBy('gill-color').count().show()"
   ]
  },
  {
   "cell_type": "code",
   "execution_count": 15,
   "metadata": {},
   "outputs": [
    {
     "name": "stdout",
     "output_type": "stream",
     "text": [
      "+-----------+-----+\n",
      "|stalk-shape|count|\n",
      "+-----------+-----+\n",
      "|          e| 3516|\n",
      "|          t| 4608|\n",
      "+-----------+-----+\n",
      "\n"
     ]
    }
   ],
   "source": [
    "train.groupBy('stalk-shape').count().show()"
   ]
  },
  {
   "cell_type": "code",
   "execution_count": 16,
   "metadata": {},
   "outputs": [
    {
     "name": "stdout",
     "output_type": "stream",
     "text": [
      "+----------+-----+\n",
      "|stalk-root|count|\n",
      "+----------+-----+\n",
      "|         e| 1120|\n",
      "|         c|  556|\n",
      "|         b| 3776|\n",
      "|         r|  192|\n",
      "|         ?| 2480|\n",
      "+----------+-----+\n",
      "\n"
     ]
    }
   ],
   "source": [
    "train.groupBy('stalk-root').count().show()"
   ]
  },
  {
   "cell_type": "markdown",
   "metadata": {},
   "source": [
    "#### We can see we have 2480 missing values we can exclude this column in the MVP"
   ]
  },
  {
   "cell_type": "code",
   "execution_count": 17,
   "metadata": {},
   "outputs": [
    {
     "name": "stdout",
     "output_type": "stream",
     "text": [
      "+------------------------+-----+\n",
      "|stalk-surface-above-ring|count|\n",
      "+------------------------+-----+\n",
      "|                       f|  552|\n",
      "|                       k| 2372|\n",
      "|                       y|   24|\n",
      "|                       s| 5176|\n",
      "+------------------------+-----+\n",
      "\n"
     ]
    }
   ],
   "source": [
    "train.groupBy('stalk-surface-above-ring').count().show()"
   ]
  },
  {
   "cell_type": "code",
   "execution_count": 18,
   "metadata": {},
   "outputs": [
    {
     "name": "stdout",
     "output_type": "stream",
     "text": [
      "+------------------------+-----+\n",
      "|stalk-surface-below-ring|count|\n",
      "+------------------------+-----+\n",
      "|                       f|  600|\n",
      "|                       k| 2304|\n",
      "|                       y|  284|\n",
      "|                       s| 4936|\n",
      "+------------------------+-----+\n",
      "\n"
     ]
    }
   ],
   "source": [
    "train.groupBy('stalk-surface-below-ring').count().show()"
   ]
  },
  {
   "cell_type": "code",
   "execution_count": 19,
   "metadata": {},
   "outputs": [
    {
     "name": "stdout",
     "output_type": "stream",
     "text": [
      "+----------------------+-----+\n",
      "|stalk-color-above-ring|count|\n",
      "+----------------------+-----+\n",
      "|                     g|  576|\n",
      "|                     n|  448|\n",
      "|                     e|   96|\n",
      "|                     o|  192|\n",
      "|                     p| 1872|\n",
      "|                     w| 4464|\n",
      "|                     y|    8|\n",
      "|                     c|   36|\n",
      "|                     b|  432|\n",
      "+----------------------+-----+\n",
      "\n"
     ]
    }
   ],
   "source": [
    "train.groupBy('stalk-color-above-ring').count().show()"
   ]
  },
  {
   "cell_type": "code",
   "execution_count": 20,
   "metadata": {},
   "outputs": [
    {
     "name": "stdout",
     "output_type": "stream",
     "text": [
      "+----------------------+-----+\n",
      "|stalk-color-below-ring|count|\n",
      "+----------------------+-----+\n",
      "|                     g|  576|\n",
      "|                     n|  512|\n",
      "|                     e|   96|\n",
      "|                     o|  192|\n",
      "|                     p| 1872|\n",
      "|                     w| 4384|\n",
      "|                     y|   24|\n",
      "|                     c|   36|\n",
      "|                     b|  432|\n",
      "+----------------------+-----+\n",
      "\n"
     ]
    }
   ],
   "source": [
    "train.groupBy('stalk-color-below-ring').count().show()"
   ]
  },
  {
   "cell_type": "code",
   "execution_count": 21,
   "metadata": {},
   "outputs": [
    {
     "name": "stdout",
     "output_type": "stream",
     "text": [
      "+----------+-----+\n",
      "|veil-color|count|\n",
      "+----------+-----+\n",
      "|         n|   96|\n",
      "|         o|   96|\n",
      "|         w| 7924|\n",
      "|         y|    8|\n",
      "+----------+-----+\n",
      "\n"
     ]
    }
   ],
   "source": [
    "train.groupBy('veil-color').count().show()"
   ]
  },
  {
   "cell_type": "code",
   "execution_count": 22,
   "metadata": {},
   "outputs": [
    {
     "name": "stdout",
     "output_type": "stream",
     "text": [
      "+---------+-----+\n",
      "|veil-type|count|\n",
      "+---------+-----+\n",
      "|        p| 8124|\n",
      "+---------+-----+\n",
      "\n"
     ]
    }
   ],
   "source": [
    "train.groupBy('veil-type').count().show()"
   ]
  },
  {
   "cell_type": "markdown",
   "metadata": {},
   "source": [
    "#### Since this feature adds no value it will not be used in our model"
   ]
  },
  {
   "cell_type": "code",
   "execution_count": 23,
   "metadata": {},
   "outputs": [
    {
     "name": "stdout",
     "output_type": "stream",
     "text": [
      "+-----------+-----+\n",
      "|ring-number|count|\n",
      "+-----------+-----+\n",
      "|          n|   36|\n",
      "|          o| 7488|\n",
      "|          t|  600|\n",
      "+-----------+-----+\n",
      "\n"
     ]
    }
   ],
   "source": [
    "train.groupBy('ring-number').count().show()"
   ]
  },
  {
   "cell_type": "code",
   "execution_count": 24,
   "metadata": {},
   "outputs": [
    {
     "name": "stdout",
     "output_type": "stream",
     "text": [
      "+---------+-----+\n",
      "|ring-type|count|\n",
      "+---------+-----+\n",
      "|        l| 1296|\n",
      "|        f|   48|\n",
      "|        n|   36|\n",
      "|        e| 2776|\n",
      "|        p| 3968|\n",
      "+---------+-----+\n",
      "\n"
     ]
    }
   ],
   "source": [
    "train.groupBy('ring-type').count().show()"
   ]
  },
  {
   "cell_type": "code",
   "execution_count": 25,
   "metadata": {},
   "outputs": [
    {
     "name": "stdout",
     "output_type": "stream",
     "text": [
      "+-----------------+-----+\n",
      "|spore-print-color|count|\n",
      "+-----------------+-----+\n",
      "|                n| 1968|\n",
      "|                k| 1872|\n",
      "|                o|   48|\n",
      "|                h| 1632|\n",
      "|                w| 2388|\n",
      "|                y|   48|\n",
      "|                u|   48|\n",
      "|                b|   48|\n",
      "|                r|   72|\n",
      "+-----------------+-----+\n",
      "\n"
     ]
    }
   ],
   "source": [
    "train.groupBy('spore-print-color').count().show()"
   ]
  },
  {
   "cell_type": "code",
   "execution_count": 26,
   "metadata": {},
   "outputs": [
    {
     "name": "stdout",
     "output_type": "stream",
     "text": [
      "+----------+-----+\n",
      "|population|count|\n",
      "+----------+-----+\n",
      "|         n|  400|\n",
      "|         v| 4040|\n",
      "|         y| 1712|\n",
      "|         c|  340|\n",
      "|         a|  384|\n",
      "|         s| 1248|\n",
      "+----------+-----+\n",
      "\n"
     ]
    }
   ],
   "source": [
    "train.groupBy('population').count().show()"
   ]
  },
  {
   "cell_type": "code",
   "execution_count": 27,
   "metadata": {},
   "outputs": [
    {
     "name": "stdout",
     "output_type": "stream",
     "text": [
      "+-------+-----+\n",
      "|habitat|count|\n",
      "+-------+-----+\n",
      "|      l|  832|\n",
      "|      g| 2148|\n",
      "|      m|  292|\n",
      "|      p| 1144|\n",
      "|      d| 3148|\n",
      "|      w|  192|\n",
      "|      u|  368|\n",
      "+-------+-----+\n",
      "\n"
     ]
    }
   ],
   "source": [
    "train.groupBy('habitat').count().show()"
   ]
  },
  {
   "cell_type": "markdown",
   "metadata": {},
   "source": [
    "### We will remove 'veil-type' and 'stalk-root'"
   ]
  },
  {
   "cell_type": "code",
   "execution_count": 28,
   "metadata": {},
   "outputs": [
    {
     "name": "stdout",
     "output_type": "stream",
     "text": [
      "root\n",
      " |-- class: string (nullable = true)\n",
      " |-- cap-shape: string (nullable = true)\n",
      " |-- cap-surface: string (nullable = true)\n",
      " |-- cap-color: string (nullable = true)\n",
      " |-- bruises: string (nullable = true)\n",
      " |-- odor: string (nullable = true)\n",
      " |-- gill-attachment: string (nullable = true)\n",
      " |-- gill-spacing: string (nullable = true)\n",
      " |-- gill-size: string (nullable = true)\n",
      " |-- gill-color: string (nullable = true)\n",
      " |-- stalk-shape: string (nullable = true)\n",
      " |-- stalk-surface-above-ring: string (nullable = true)\n",
      " |-- stalk-surface-below-ring: string (nullable = true)\n",
      " |-- stalk-color-above-ring: string (nullable = true)\n",
      " |-- stalk-color-below-ring: string (nullable = true)\n",
      " |-- veil-color: string (nullable = true)\n",
      " |-- ring-number: string (nullable = true)\n",
      " |-- ring-type: string (nullable = true)\n",
      " |-- spore-print-color: string (nullable = true)\n",
      " |-- population: string (nullable = true)\n",
      " |-- habitat: string (nullable = true)\n",
      "\n"
     ]
    }
   ],
   "source": [
    "train = train.select('class', 'cap-shape', 'cap-surface', 'cap-color', 'bruises', 'odor', 'gill-attachment', 'gill-spacing', 'gill-size', 'gill-color', 'stalk-shape', 'stalk-surface-above-ring', 'stalk-surface-below-ring', 'stalk-color-above-ring', 'stalk-color-below-ring', 'veil-color', 'ring-number', 'ring-type', 'spore-print-color', 'population', 'habitat')\n",
    "cols = train.columns\n",
    "train.printSchema()"
   ]
  },
  {
   "cell_type": "code",
   "execution_count": 29,
   "metadata": {},
   "outputs": [
    {
     "data": {
      "text/html": [
       "<div>\n",
       "<style scoped>\n",
       "    .dataframe tbody tr th:only-of-type {\n",
       "        vertical-align: middle;\n",
       "    }\n",
       "\n",
       "    .dataframe tbody tr th {\n",
       "        vertical-align: top;\n",
       "    }\n",
       "\n",
       "    .dataframe thead th {\n",
       "        text-align: right;\n",
       "    }\n",
       "</style>\n",
       "<table border=\"1\" class=\"dataframe\">\n",
       "  <thead>\n",
       "    <tr style=\"text-align: right;\">\n",
       "      <th></th>\n",
       "      <th>0</th>\n",
       "      <th>1</th>\n",
       "      <th>2</th>\n",
       "      <th>3</th>\n",
       "      <th>4</th>\n",
       "    </tr>\n",
       "  </thead>\n",
       "  <tbody>\n",
       "    <tr>\n",
       "      <th>class</th>\n",
       "      <td>p</td>\n",
       "      <td>e</td>\n",
       "      <td>e</td>\n",
       "      <td>p</td>\n",
       "      <td>e</td>\n",
       "    </tr>\n",
       "    <tr>\n",
       "      <th>cap-shape</th>\n",
       "      <td>x</td>\n",
       "      <td>x</td>\n",
       "      <td>b</td>\n",
       "      <td>x</td>\n",
       "      <td>x</td>\n",
       "    </tr>\n",
       "    <tr>\n",
       "      <th>cap-surface</th>\n",
       "      <td>s</td>\n",
       "      <td>s</td>\n",
       "      <td>s</td>\n",
       "      <td>y</td>\n",
       "      <td>s</td>\n",
       "    </tr>\n",
       "    <tr>\n",
       "      <th>cap-color</th>\n",
       "      <td>n</td>\n",
       "      <td>y</td>\n",
       "      <td>w</td>\n",
       "      <td>w</td>\n",
       "      <td>g</td>\n",
       "    </tr>\n",
       "    <tr>\n",
       "      <th>bruises</th>\n",
       "      <td>t</td>\n",
       "      <td>t</td>\n",
       "      <td>t</td>\n",
       "      <td>t</td>\n",
       "      <td>f</td>\n",
       "    </tr>\n",
       "    <tr>\n",
       "      <th>odor</th>\n",
       "      <td>p</td>\n",
       "      <td>a</td>\n",
       "      <td>l</td>\n",
       "      <td>p</td>\n",
       "      <td>n</td>\n",
       "    </tr>\n",
       "    <tr>\n",
       "      <th>gill-attachment</th>\n",
       "      <td>f</td>\n",
       "      <td>f</td>\n",
       "      <td>f</td>\n",
       "      <td>f</td>\n",
       "      <td>f</td>\n",
       "    </tr>\n",
       "    <tr>\n",
       "      <th>gill-spacing</th>\n",
       "      <td>c</td>\n",
       "      <td>c</td>\n",
       "      <td>c</td>\n",
       "      <td>c</td>\n",
       "      <td>w</td>\n",
       "    </tr>\n",
       "    <tr>\n",
       "      <th>gill-size</th>\n",
       "      <td>n</td>\n",
       "      <td>b</td>\n",
       "      <td>b</td>\n",
       "      <td>n</td>\n",
       "      <td>b</td>\n",
       "    </tr>\n",
       "    <tr>\n",
       "      <th>gill-color</th>\n",
       "      <td>k</td>\n",
       "      <td>k</td>\n",
       "      <td>n</td>\n",
       "      <td>n</td>\n",
       "      <td>k</td>\n",
       "    </tr>\n",
       "    <tr>\n",
       "      <th>stalk-shape</th>\n",
       "      <td>e</td>\n",
       "      <td>e</td>\n",
       "      <td>e</td>\n",
       "      <td>e</td>\n",
       "      <td>t</td>\n",
       "    </tr>\n",
       "    <tr>\n",
       "      <th>stalk-surface-above-ring</th>\n",
       "      <td>s</td>\n",
       "      <td>s</td>\n",
       "      <td>s</td>\n",
       "      <td>s</td>\n",
       "      <td>s</td>\n",
       "    </tr>\n",
       "    <tr>\n",
       "      <th>stalk-surface-below-ring</th>\n",
       "      <td>s</td>\n",
       "      <td>s</td>\n",
       "      <td>s</td>\n",
       "      <td>s</td>\n",
       "      <td>s</td>\n",
       "    </tr>\n",
       "    <tr>\n",
       "      <th>stalk-color-above-ring</th>\n",
       "      <td>w</td>\n",
       "      <td>w</td>\n",
       "      <td>w</td>\n",
       "      <td>w</td>\n",
       "      <td>w</td>\n",
       "    </tr>\n",
       "    <tr>\n",
       "      <th>stalk-color-below-ring</th>\n",
       "      <td>w</td>\n",
       "      <td>w</td>\n",
       "      <td>w</td>\n",
       "      <td>w</td>\n",
       "      <td>w</td>\n",
       "    </tr>\n",
       "    <tr>\n",
       "      <th>veil-color</th>\n",
       "      <td>w</td>\n",
       "      <td>w</td>\n",
       "      <td>w</td>\n",
       "      <td>w</td>\n",
       "      <td>w</td>\n",
       "    </tr>\n",
       "    <tr>\n",
       "      <th>ring-number</th>\n",
       "      <td>o</td>\n",
       "      <td>o</td>\n",
       "      <td>o</td>\n",
       "      <td>o</td>\n",
       "      <td>o</td>\n",
       "    </tr>\n",
       "    <tr>\n",
       "      <th>ring-type</th>\n",
       "      <td>p</td>\n",
       "      <td>p</td>\n",
       "      <td>p</td>\n",
       "      <td>p</td>\n",
       "      <td>e</td>\n",
       "    </tr>\n",
       "    <tr>\n",
       "      <th>spore-print-color</th>\n",
       "      <td>k</td>\n",
       "      <td>n</td>\n",
       "      <td>n</td>\n",
       "      <td>k</td>\n",
       "      <td>n</td>\n",
       "    </tr>\n",
       "    <tr>\n",
       "      <th>population</th>\n",
       "      <td>s</td>\n",
       "      <td>n</td>\n",
       "      <td>n</td>\n",
       "      <td>s</td>\n",
       "      <td>a</td>\n",
       "    </tr>\n",
       "    <tr>\n",
       "      <th>habitat</th>\n",
       "      <td>u</td>\n",
       "      <td>g</td>\n",
       "      <td>m</td>\n",
       "      <td>u</td>\n",
       "      <td>g</td>\n",
       "    </tr>\n",
       "  </tbody>\n",
       "</table>\n",
       "</div>"
      ],
      "text/plain": [
       "                          0  1  2  3  4\n",
       "class                     p  e  e  p  e\n",
       "cap-shape                 x  x  b  x  x\n",
       "cap-surface               s  s  s  y  s\n",
       "cap-color                 n  y  w  w  g\n",
       "bruises                   t  t  t  t  f\n",
       "odor                      p  a  l  p  n\n",
       "gill-attachment           f  f  f  f  f\n",
       "gill-spacing              c  c  c  c  w\n",
       "gill-size                 n  b  b  n  b\n",
       "gill-color                k  k  n  n  k\n",
       "stalk-shape               e  e  e  e  t\n",
       "stalk-surface-above-ring  s  s  s  s  s\n",
       "stalk-surface-below-ring  s  s  s  s  s\n",
       "stalk-color-above-ring    w  w  w  w  w\n",
       "stalk-color-below-ring    w  w  w  w  w\n",
       "veil-color                w  w  w  w  w\n",
       "ring-number               o  o  o  o  o\n",
       "ring-type                 p  p  p  p  e\n",
       "spore-print-color         k  n  n  k  n\n",
       "population                s  n  n  s  a\n",
       "habitat                   u  g  m  u  g"
      ]
     },
     "execution_count": 29,
     "metadata": {},
     "output_type": "execute_result"
    }
   ],
   "source": [
    "# we will look at the first 5 rows to see if data is still ok and confirm the columns were removed\n",
    "import pandas as pd\n",
    "pd.DataFrame(train.take(5), columns=train.columns).transpose()"
   ]
  },
  {
   "cell_type": "markdown",
   "metadata": {},
   "source": [
    "### This part is where the encoding takes place. (Converting labels to numbers) DataBriks example was used"
   ]
  },
  {
   "cell_type": "code",
   "execution_count": 30,
   "metadata": {},
   "outputs": [],
   "source": [
    "from pyspark.ml.feature import OneHotEncoderEstimator, StringIndexer, VectorAssembler"
   ]
  },
  {
   "cell_type": "code",
   "execution_count": 31,
   "metadata": {},
   "outputs": [],
   "source": [
    "# DataBrick example\n",
    "from pyspark.ml import Pipeline\n",
    "from pyspark.ml.feature import OneHotEncoderEstimator, StringIndexer, VectorAssembler\n",
    "categoricalColumns = [\"cap-shape\", \"cap-surface\", \"cap-color\", \"bruises\", \"odor\", \"gill-attachment\", \"gill-spacing\", \n",
    "                      \"gill-size\", \"gill-color\", \"stalk-shape\", \"stalk-surface-above-ring\", \"stalk-surface-below-ring\", \n",
    "                      \"stalk-color-above-ring\", \"stalk-color-below-ring\", \"veil-color\", \"ring-number\", \"ring-type\", \n",
    "                      \"spore-print-color\", \"population\", \"habitat\"]\n",
    "\n",
    "stages = [] # stages in our Pipeline\n",
    "for categoricalCol in categoricalColumns:\n",
    "    # Category Indexing with StringIndexer\n",
    "    stringIndexer = StringIndexer(inputCol=categoricalCol, outputCol=categoricalCol + \"Index\")\n",
    "    # Use OneHotEncoder to convert categorical variables into binary SparseVectors\n",
    "    # encoder = OneHotEncoderEstimator(inputCol=categoricalCol + \"Index\", outputCol=categoricalCol + \"classVec\")\n",
    "    encoder = OneHotEncoderEstimator(inputCols=[stringIndexer.getOutputCol()], outputCols=[categoricalCol + \"classVec\"])\n",
    "    # Add stages.  These are not run here, but will run all at once later on.\n",
    "    stages += [stringIndexer, encoder]\n",
    "    \n",
    "    # Convert label into label indices using the StringIndexer\n",
    "label_stringIdx = StringIndexer(inputCol=\"class\", outputCol=\"label\")\n",
    "stages += [label_stringIdx]\n",
    "\n",
    "assemblerInputs = [c + \"classVec\" for c in categoricalColumns]\n",
    "assembler = VectorAssembler(inputCols=assemblerInputs, outputCol=\"features\")\n",
    "stages += [assembler]"
   ]
  },
  {
   "cell_type": "code",
   "execution_count": 32,
   "metadata": {},
   "outputs": [],
   "source": [
    "from pyspark.ml.classification import LogisticRegression\n",
    "  \n",
    "partialPipeline = Pipeline().setStages(stages)\n",
    "pipelineModel = partialPipeline.fit(train)\n",
    "preppedDataDF = pipelineModel.transform(train)\n",
    "\n",
    "# Fit model to prepped data\n",
    "lrModel = LogisticRegression().fit(preppedDataDF)"
   ]
  },
  {
   "cell_type": "code",
   "execution_count": 33,
   "metadata": {
    "scrolled": true
   },
   "outputs": [
    {
     "name": "stdout",
     "output_type": "stream",
     "text": [
      "root\n",
      " |-- class: string (nullable = true)\n",
      " |-- cap-shape: string (nullable = true)\n",
      " |-- cap-surface: string (nullable = true)\n",
      " |-- cap-color: string (nullable = true)\n",
      " |-- bruises: string (nullable = true)\n",
      " |-- odor: string (nullable = true)\n",
      " |-- gill-attachment: string (nullable = true)\n",
      " |-- gill-spacing: string (nullable = true)\n",
      " |-- gill-size: string (nullable = true)\n",
      " |-- gill-color: string (nullable = true)\n",
      " |-- stalk-shape: string (nullable = true)\n",
      " |-- stalk-surface-above-ring: string (nullable = true)\n",
      " |-- stalk-surface-below-ring: string (nullable = true)\n",
      " |-- stalk-color-above-ring: string (nullable = true)\n",
      " |-- stalk-color-below-ring: string (nullable = true)\n",
      " |-- veil-color: string (nullable = true)\n",
      " |-- ring-number: string (nullable = true)\n",
      " |-- ring-type: string (nullable = true)\n",
      " |-- spore-print-color: string (nullable = true)\n",
      " |-- population: string (nullable = true)\n",
      " |-- habitat: string (nullable = true)\n",
      " |-- cap-shapeIndex: double (nullable = false)\n",
      " |-- cap-shapeclassVec: vector (nullable = true)\n",
      " |-- cap-surfaceIndex: double (nullable = false)\n",
      " |-- cap-surfaceclassVec: vector (nullable = true)\n",
      " |-- cap-colorIndex: double (nullable = false)\n",
      " |-- cap-colorclassVec: vector (nullable = true)\n",
      " |-- bruisesIndex: double (nullable = false)\n",
      " |-- bruisesclassVec: vector (nullable = true)\n",
      " |-- odorIndex: double (nullable = false)\n",
      " |-- odorclassVec: vector (nullable = true)\n",
      " |-- gill-attachmentIndex: double (nullable = false)\n",
      " |-- gill-attachmentclassVec: vector (nullable = true)\n",
      " |-- gill-spacingIndex: double (nullable = false)\n",
      " |-- gill-spacingclassVec: vector (nullable = true)\n",
      " |-- gill-sizeIndex: double (nullable = false)\n",
      " |-- gill-sizeclassVec: vector (nullable = true)\n",
      " |-- gill-colorIndex: double (nullable = false)\n",
      " |-- gill-colorclassVec: vector (nullable = true)\n",
      " |-- stalk-shapeIndex: double (nullable = false)\n",
      " |-- stalk-shapeclassVec: vector (nullable = true)\n",
      " |-- stalk-surface-above-ringIndex: double (nullable = false)\n",
      " |-- stalk-surface-above-ringclassVec: vector (nullable = true)\n",
      " |-- stalk-surface-below-ringIndex: double (nullable = false)\n",
      " |-- stalk-surface-below-ringclassVec: vector (nullable = true)\n",
      " |-- stalk-color-above-ringIndex: double (nullable = false)\n",
      " |-- stalk-color-above-ringclassVec: vector (nullable = true)\n",
      " |-- stalk-color-below-ringIndex: double (nullable = false)\n",
      " |-- stalk-color-below-ringclassVec: vector (nullable = true)\n",
      " |-- veil-colorIndex: double (nullable = false)\n",
      " |-- veil-colorclassVec: vector (nullable = true)\n",
      " |-- ring-numberIndex: double (nullable = false)\n",
      " |-- ring-numberclassVec: vector (nullable = true)\n",
      " |-- ring-typeIndex: double (nullable = false)\n",
      " |-- ring-typeclassVec: vector (nullable = true)\n",
      " |-- spore-print-colorIndex: double (nullable = false)\n",
      " |-- spore-print-colorclassVec: vector (nullable = true)\n",
      " |-- populationIndex: double (nullable = false)\n",
      " |-- populationclassVec: vector (nullable = true)\n",
      " |-- habitatIndex: double (nullable = false)\n",
      " |-- habitatclassVec: vector (nullable = true)\n",
      " |-- label: double (nullable = false)\n",
      " |-- features: vector (nullable = true)\n",
      "\n"
     ]
    }
   ],
   "source": [
    "preppedDataDF.printSchema()"
   ]
  },
  {
   "cell_type": "code",
   "execution_count": 34,
   "metadata": {},
   "outputs": [
    {
     "data": {
      "text/plain": [
       "DataFrame[label: double, features: vector]"
      ]
     },
     "metadata": {},
     "output_type": "display_data"
    }
   ],
   "source": [
    "selectedcols = [\"label\", \"features\"]\n",
    "dataset = preppedDataDF.select(selectedcols)\n",
    "display(dataset)"
   ]
  },
  {
   "cell_type": "code",
   "execution_count": 35,
   "metadata": {},
   "outputs": [
    {
     "name": "stdout",
     "output_type": "stream",
     "text": [
      "root\n",
      " |-- label: double (nullable = false)\n",
      " |-- features: vector (nullable = true)\n",
      "\n"
     ]
    }
   ],
   "source": [
    "dataset.printSchema()"
   ]
  },
  {
   "cell_type": "code",
   "execution_count": 36,
   "metadata": {},
   "outputs": [
    {
     "name": "stdout",
     "output_type": "stream",
     "text": [
      "+-----+-----+\n",
      "|label|count|\n",
      "+-----+-----+\n",
      "|  0.0| 4208|\n",
      "|  1.0| 3916|\n",
      "+-----+-----+\n",
      "\n"
     ]
    }
   ],
   "source": [
    "dataset.groupBy('label').count().show()"
   ]
  },
  {
   "cell_type": "code",
   "execution_count": 37,
   "metadata": {},
   "outputs": [
    {
     "name": "stdout",
     "output_type": "stream",
     "text": [
      "+--------------------+-----+\n",
      "|            features|count|\n",
      "+--------------------+-----+\n",
      "|(91,[3,5,12,23,26...|    1|\n",
      "|(91,[0,6,11,23,26...|    1|\n",
      "|(91,[0,5,12,23,26...|    1|\n",
      "|(91,[1,6,11,22,26...|    1|\n",
      "|(91,[1,5,12,24,26...|    1|\n",
      "|(91,[0,7,9,18,26,...|    1|\n",
      "|(91,[1,7,9,17,18,...|    1|\n",
      "|(91,[1,7,8,18,26,...|    1|\n",
      "|(91,[0,7,9,17,19,...|    1|\n",
      "|(91,[0,7,9,18,26,...|    1|\n",
      "|(91,[1,5,9,18,26,...|    1|\n",
      "|(91,[1,7,10,18,26...|    1|\n",
      "|(91,[1,7,9,17,19,...|    1|\n",
      "|(91,[1,7,9,17,19,...|    1|\n",
      "|(91,[1,7,11,17,19...|    1|\n",
      "|(91,[1,7,9,18,26,...|    1|\n",
      "|(91,[1,5,11,17,19...|    1|\n",
      "|(91,[0,7,11,17,19...|    1|\n",
      "|(91,[0,5,12,17,18...|    1|\n",
      "|(91,[12,18,26,31,...|    1|\n",
      "+--------------------+-----+\n",
      "only showing top 20 rows\n",
      "\n"
     ]
    }
   ],
   "source": [
    "dataset.groupBy('features').count().show()"
   ]
  },
  {
   "cell_type": "code",
   "execution_count": 38,
   "metadata": {},
   "outputs": [
    {
     "name": "stdout",
     "output_type": "stream",
     "text": [
      "6096\n",
      "2028\n"
     ]
    }
   ],
   "source": [
    "### Randomly split data into training and test sets. set seed for reproducibility\n",
    "(trainingData, testData) = dataset.randomSplit([0.75, 0.25], seed=100)\n",
    "print(trainingData.count())\n",
    "print(testData.count())"
   ]
  },
  {
   "cell_type": "markdown",
   "metadata": {},
   "source": [
    "### Logistic Regression"
   ]
  },
  {
   "cell_type": "code",
   "execution_count": 39,
   "metadata": {},
   "outputs": [],
   "source": [
    "from pyspark.ml.classification import LogisticRegression\n",
    "lr = LogisticRegression(featuresCol = 'features', labelCol = 'label', maxIter=10)\n",
    "lrModel = lr.fit(trainingData)"
   ]
  },
  {
   "cell_type": "code",
   "execution_count": 40,
   "metadata": {},
   "outputs": [],
   "source": [
    "# Make predictions on test data using the transform() method.\n",
    "# LogisticRegression.transform() will only use the 'features' column.\n",
    "predictions = lrModel.transform(testData)"
   ]
  },
  {
   "cell_type": "code",
   "execution_count": 41,
   "metadata": {},
   "outputs": [
    {
     "data": {
      "text/plain": [
       "DataFrame[label: double, prediction: double]"
      ]
     },
     "metadata": {},
     "output_type": "display_data"
    }
   ],
   "source": [
    "selected = predictions.select(\"label\", \"prediction\")\n",
    "display(selected)"
   ]
  },
  {
   "cell_type": "code",
   "execution_count": 42,
   "metadata": {},
   "outputs": [
    {
     "data": {
      "text/plain": [
       "DataFrame[summary: string, label: string, prediction: string]"
      ]
     },
     "execution_count": 42,
     "metadata": {},
     "output_type": "execute_result"
    }
   ],
   "source": [
    "selected.describe()"
   ]
  },
  {
   "cell_type": "code",
   "execution_count": 43,
   "metadata": {},
   "outputs": [
    {
     "name": "stdout",
     "output_type": "stream",
     "text": [
      "A Logistic Regression algorithm had an accuracy of: 100.00%\n"
     ]
    }
   ],
   "source": [
    "# Evaluating model with the BianaryClassificationEvaluator\n",
    "# Default metric for the BinaryClassificationEvaluator is areaUnderROC\n",
    "\n",
    "from pyspark.ml.evaluation import BinaryClassificationEvaluator\n",
    "\n",
    "# Evaluate model\n",
    "evaluator = BinaryClassificationEvaluator(rawPredictionCol=\"rawPrediction\")\n",
    "evaluator.evaluate(predictions)\n",
    "\n",
    "lr_acc = evaluator.evaluate(predictions)\n",
    "print('A Logistic Regression algorithm had an accuracy of: {0:2.2f}%'.format(lr_acc*100))"
   ]
  },
  {
   "cell_type": "markdown",
   "metadata": {},
   "source": [
    "### Decision Tree"
   ]
  },
  {
   "cell_type": "code",
   "execution_count": 44,
   "metadata": {},
   "outputs": [],
   "source": [
    "from pyspark.ml.classification import DecisionTreeClassifier\n",
    "\n",
    "# Create initial Decision Tree Model\n",
    "dt = DecisionTreeClassifier(labelCol=\"label\", featuresCol=\"features\", maxDepth=3)\n",
    "\n",
    "# Train model with Training Data\n",
    "dtModel = dt.fit(trainingData)"
   ]
  },
  {
   "cell_type": "code",
   "execution_count": 45,
   "metadata": {},
   "outputs": [
    {
     "name": "stdout",
     "output_type": "stream",
     "text": [
      "numNodes =  11\n",
      "depth =  3\n"
     ]
    }
   ],
   "source": [
    "# to list the number of nodes and the tree depth of the model \n",
    "\n",
    "print(\"numNodes = \", dtModel.numNodes)\n",
    "print(\"depth = \", dtModel.depth)"
   ]
  },
  {
   "cell_type": "code",
   "execution_count": 46,
   "metadata": {},
   "outputs": [
    {
     "data": {
      "text/plain": [
       "DecisionTreeClassificationModel (uid=DecisionTreeClassifier_b4e73d042775) of depth 3 with 11 nodes"
      ]
     },
     "metadata": {},
     "output_type": "display_data"
    }
   ],
   "source": [
    "# This can also be done with the following\n",
    "display(dtModel)"
   ]
  },
  {
   "cell_type": "code",
   "execution_count": 47,
   "metadata": {},
   "outputs": [],
   "source": [
    "# Make predictions on test data using the Transformer.transform() method.\n",
    "dtpredictions = dtModel.transform(testData)"
   ]
  },
  {
   "cell_type": "code",
   "execution_count": 48,
   "metadata": {},
   "outputs": [
    {
     "name": "stdout",
     "output_type": "stream",
     "text": [
      "root\n",
      " |-- label: double (nullable = false)\n",
      " |-- features: vector (nullable = true)\n",
      " |-- rawPrediction: vector (nullable = true)\n",
      " |-- probability: vector (nullable = true)\n",
      " |-- prediction: double (nullable = false)\n",
      "\n"
     ]
    }
   ],
   "source": [
    "dtpredictions.printSchema()"
   ]
  },
  {
   "cell_type": "code",
   "execution_count": 49,
   "metadata": {},
   "outputs": [
    {
     "name": "stdout",
     "output_type": "stream",
     "text": [
      "A Decision Tree algorithm had an accuracy of: 98.02%\n"
     ]
    }
   ],
   "source": [
    "# Evaluating model with the BianaryClassificationEvaluator\n",
    "from pyspark.ml.evaluation import BinaryClassificationEvaluator\n",
    "# Evaluate model\n",
    "evaluator = BinaryClassificationEvaluator()\n",
    "evaluator.evaluate(dtpredictions)\n",
    "dt_acc = evaluator.evaluate(dtpredictions)\n",
    "print('A Decision Tree algorithm had an accuracy of: {0:2.2f}%'.format(dt_acc*100))"
   ]
  },
  {
   "cell_type": "markdown",
   "metadata": {},
   "source": [
    "### Decision Tree Classifier"
   ]
  },
  {
   "cell_type": "code",
   "execution_count": 50,
   "metadata": {},
   "outputs": [],
   "source": [
    "from pyspark.ml.classification import DecisionTreeClassifier\n",
    "dtc = DecisionTreeClassifier(labelCol='label',featuresCol='features')"
   ]
  },
  {
   "cell_type": "code",
   "execution_count": 51,
   "metadata": {},
   "outputs": [],
   "source": [
    "# Train model with Training Data\n",
    "dtcModel = dtc.fit(trainingData)"
   ]
  },
  {
   "cell_type": "code",
   "execution_count": 52,
   "metadata": {},
   "outputs": [],
   "source": [
    "dtcpredictions = dtcModel.transform(testData)"
   ]
  },
  {
   "cell_type": "code",
   "execution_count": 53,
   "metadata": {},
   "outputs": [
    {
     "name": "stdout",
     "output_type": "stream",
     "text": [
      "A Decision Tree algorithm had an accuracy of: 99.80%\n"
     ]
    }
   ],
   "source": [
    "from pyspark.ml.evaluation import MulticlassClassificationEvaluator\n",
    "# Select (prediction, true label) and compute test error\n",
    "acc_evaluator = MulticlassClassificationEvaluator(labelCol=\"label\", predictionCol=\"prediction\", metricName=\"accuracy\")\n",
    "\n",
    "dtc_acc = acc_evaluator.evaluate(dtcpredictions)\n",
    "print('A Decision Tree algorithm had an accuracy of: {0:2.2f}%'.format(dtc_acc*100))"
   ]
  },
  {
   "cell_type": "markdown",
   "metadata": {},
   "source": [
    "### The last algorithm \" Decision Tree Classifier\" had the best accuracy.\n",
    "#### Despite changing the train/test ratio, it maintained an accuracy of over 99.8%.\n",
    "#### The leaner regression always show 100%. this is not a good sign. Could be over-fitting\n",
    "#### The runner up algorithm, is the Decision Tree. It maintained it's accuracy over 98%."
   ]
  }
 ],
 "metadata": {
  "kernelspec": {
   "display_name": "Python 3",
   "language": "python",
   "name": "python3"
  },
  "language_info": {
   "codemirror_mode": {
    "name": "ipython",
    "version": 3
   },
   "file_extension": ".py",
   "mimetype": "text/x-python",
   "name": "python",
   "nbconvert_exporter": "python",
   "pygments_lexer": "ipython3",
   "version": "3.6.9"
  }
 },
 "nbformat": 4,
 "nbformat_minor": 4
}
